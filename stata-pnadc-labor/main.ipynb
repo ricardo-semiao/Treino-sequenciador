{
 "cells": [
  {
   "cell_type": "markdown",
   "metadata": {},
   "source": [
    "# Analysis of Brazilian Employment with PNADc Data\n",
    "\n",
    "This script has the goal of acquiring some basic information about the labour market in Brazil, using PNADc data and the Stata program. \n"
   ]
  },
  {
   "cell_type": "markdown",
   "metadata": {},
   "source": [
    "## Setup"
   ]
  },
  {
   "cell_type": "markdown",
   "metadata": {},
   "source": [
    "First step: clearing the working environment, and setting global options."
   ]
  },
  {
   "cell_type": "code",
   "execution_count": 7,
   "metadata": {},
   "outputs": [],
   "source": [
    "clear\n",
    "set linesize 130"
   ]
  },
  {
   "cell_type": "markdown",
   "metadata": {},
   "source": [
    "Installing needed packages:"
   ]
  },
  {
   "cell_type": "code",
   "execution_count": 8,
   "metadata": {},
   "outputs": [
    {
     "name": "stdout",
     "output_type": "stream",
     "text": [
      "\n",
      "checking vioplot consistency and verifying not already installed...\n",
      "all files already exist and are up to date.\n",
      "\n",
      "checking heatplot consistency and verifying not already installed...\n",
      "all files already exist and are up to date.\n",
      "\n",
      "checking palettes consistency and verifying not already installed...\n",
      "all files already exist and are up to date.\n",
      "\n",
      "checking colrspace consistency and verifying not already installed...\n",
      "all files already exist and are up to date.\n"
     ]
    }
   ],
   "source": [
    "ssc install vioplot, replace\n",
    "ssc install heatplot, replace\n",
    "ssc install palettes, replace\n",
    "ssc install colrspace, replace"
   ]
  },
  {
   "cell_type": "markdown",
   "metadata": {},
   "source": [
    "Loading the data with the infix command. The delimiters of each variable can be found in the [dictionary](data/PNADC_dict.xls)."
   ]
  },
  {
   "cell_type": "code",
   "execution_count": 9,
   "metadata": {},
   "outputs": [
    {
     "name": "stdout",
     "output_type": "stream",
     "text": [
      "(473,335 observations read)\n"
     ]
    }
   ],
   "source": [
    "#delim ;\n",
    "    infix\n",
    "    id_year 1-4\n",
    "    id_tri 5-5\n",
    "    id_state 6-7\n",
    "    sex 95-95\n",
    "    age 104-106\n",
    "    race 107-107\n",
    "    house_urban 33-33\n",
    "    house_size 89-90\n",
    "    house_type 402-402\n",
    "    educ_lv 405-405\n",
    "    educ_years 406-407\n",
    "    ocup_njobs 151-151\n",
    "    ocup_lf 409-409\n",
    "    ocup_ocup 410-410\n",
    "    ocup_plf 411-411\n",
    "    ocup_low 413-413\n",
    "    ocup_disc 414-414\n",
    "    ocup_pension 423-423\n",
    "    ocup_motive 461-461\n",
    "    job_time 247-247\n",
    "    job_group 419-420\n",
    "    job_pos 421-422\n",
    "    job_pay 444-452\n",
    "    job_hours 462-464\n",
    "    using \"data\\PNADC_012023.txt\";\n",
    "#delim cr\n"
   ]
  },
  {
   "cell_type": "markdown",
   "metadata": {},
   "source": [
    "## Data Processing"
   ]
  },
  {
   "cell_type": "markdown",
   "metadata": {},
   "source": [
    "Lets do a initial analysis of the data, see if there are any problems we need to deal with, before starting the actual study."
   ]
  },
  {
   "cell_type": "markdown",
   "metadata": {},
   "source": [
    "### Dataset Summary\n",
    "\n",
    "Lets start with visualizing and summarizing the dataset as a whole."
   ]
  },
  {
   "cell_type": "markdown",
   "metadata": {},
   "source": [
    "Head, mid, and tail of dataset:"
   ]
  },
  {
   "cell_type": "code",
   "execution_count": 10,
   "metadata": {},
   "outputs": [],
   "source": [
    "* To open in interactive window:\n",
    "browse if inrange(_n, 1, 10) | inrange(_n, round(_N/2) - 5, round(_N/2) + 5) | inrange(_n, _N-9, _N)\n",
    "\n",
    "* To print to the cell output:\n",
    "*list if inrange(_n, 1, 5) | inrange(_n, round(_N/2) - 2, round(_N/2) + 2) | inrange(_n, _N-4, _N)"
   ]
  },
  {
   "cell_type": "markdown",
   "metadata": {},
   "source": [
    "Basic descriptive statistics of all variables:"
   ]
  },
  {
   "cell_type": "code",
   "execution_count": 11,
   "metadata": {},
   "outputs": [
    {
     "name": "stdout",
     "output_type": "stream",
     "text": [
      "\n",
      "    Variable |        Obs        Mean    Std. dev.       Min        Max\n",
      "-------------+---------------------------------------------------------\n",
      "     id_year |    473,335        2023           0       2023       2023\n",
      "      id_tri |    473,335           1           0          1          1\n",
      "    id_state |    473,335    30.89177    11.00204         11         53\n",
      "         sex |    473,335    1.515713    .4997536          1          2\n",
      "         age |    473,335     37.3425    22.22398          0        115\n",
      "        race |    473,335    2.623795    1.433491          1          9\n",
      " house_urban |    473,335    1.266663    .4422152          1          2\n",
      "  house_size |    473,335    3.502633      1.5974          1         21\n",
      "  house_type |    473,335    2.197036     .563644          1          4\n",
      "     educ_lv |    446,205    3.608048    1.919254          1          7\n",
      "  educ_years |    446,205    8.518224    4.946553          0         16\n",
      "  ocup_njobs |    200,106    1.031243    .1826358          1          3\n",
      "     ocup_lf |    389,383    1.439369     .496311          1          2\n",
      "   ocup_ocup |    218,300    1.083344    .2764021          1          2\n",
      "    ocup_plf |    171,083    1.889469    .3135516          1          2\n",
      "    ocup_low |     11,012           1           0          1          1\n",
      "   ocup_disc |     12,141           1           0          1          1\n",
      "ocup_pension |    200,106    1.401362    .4901753          1          2\n",
      " ocup_motive |    171,083    3.258237    1.647334          1          6\n",
      "    job_time |    200,106     3.42394     .913814          1          4\n",
      "   job_group |    200,106    5.274165    3.185725          1         12\n",
      "     job_pos |    200,106    5.690749    2.397413          1         11\n",
      "     job_pay |    194,914    26478.74    40546.88         50    3000000\n",
      "   job_hours |    200,106    39.27154    12.10511          1        120\n"
     ]
    }
   ],
   "source": [
    "summarize, separator(99)"
   ]
  },
  {
   "cell_type": "markdown",
   "metadata": {},
   "source": [
    "We can see that the occupation and job variables have lots of missing data. We will direct our attention to that in a moment."
   ]
  },
  {
   "cell_type": "markdown",
   "metadata": {},
   "source": [
    "Below we have extended details for each variable. We can also see the relation of the existence of missing values between the variables."
   ]
  },
  {
   "cell_type": "code",
   "execution_count": 12,
   "metadata": {},
   "outputs": [
    {
     "name": "stdout",
     "output_type": "stream",
     "text": [
      "\n",
      "----------------------------------------------------------------------------------------------------------------------------------\n",
      "id_year                                                                                                                (unlabeled)\n",
      "----------------------------------------------------------------------------------------------------------------------------------\n",
      "\n",
      "                  Type: Numeric (float)\n",
      "\n",
      "                 Range: [2023,2023]                   Units: 1\n",
      "         Unique values: 1                         Missing .: 0/473,335\n",
      "\n",
      "            Tabulation: Freq.  Value\n",
      "                      473,335  2023\n",
      "\n",
      "----------------------------------------------------------------------------------------------------------------------------------\n",
      "id_tri                                                                                                                 (unlabeled)\n",
      "----------------------------------------------------------------------------------------------------------------------------------\n",
      "\n",
      "                  Type: Numeric (byte)\n",
      "\n",
      "                 Range: [1,1]                         Units: 1\n",
      "         Unique values: 1                         Missing .: 0/473,335\n",
      "\n",
      "            Tabulation: Freq.  Value\n",
      "                      473,335  1\n",
      "\n",
      "----------------------------------------------------------------------------------------------------------------------------------\n",
      "id_state                                                                                                               (unlabeled)\n",
      "----------------------------------------------------------------------------------------------------------------------------------\n",
      "\n",
      "                  Type: Numeric (float)\n",
      "\n",
      "                 Range: [11,53]                       Units: 1\n",
      "         Unique values: 27                        Missing .: 0/473,335\n",
      "\n",
      "                  Mean: 30.8918\n",
      "             Std. dev.:  11.002\n",
      "\n",
      "           Percentiles:     10%       25%       50%       75%       90%\n",
      "                             15        23        31        41        43\n",
      "\n",
      "----------------------------------------------------------------------------------------------------------------------------------\n",
      "sex                                                                                                                    (unlabeled)\n",
      "----------------------------------------------------------------------------------------------------------------------------------\n",
      "\n",
      "                  Type: Numeric (byte)\n",
      "\n",
      "                 Range: [1,2]                         Units: 1\n",
      "         Unique values: 2                         Missing .: 0/473,335\n",
      "\n",
      "            Tabulation: Freq.  Value\n",
      "                      229,230  1\n",
      "                      244,105  2\n",
      "\n",
      "----------------------------------------------------------------------------------------------------------------------------------\n",
      "age                                                                                                                    (unlabeled)\n",
      "----------------------------------------------------------------------------------------------------------------------------------\n",
      "\n",
      "                  Type: Numeric (float)\n",
      "\n",
      "                 Range: [0,115]                       Units: 1\n",
      "         Unique values: 111                       Missing .: 0/473,335\n",
      "\n",
      "                  Mean: 37.3425\n",
      "             Std. dev.:  22.224\n",
      "\n",
      "           Percentiles:     10%       25%       50%       75%       90%\n",
      "                              8        18        37        55        68\n",
      "\n",
      "----------------------------------------------------------------------------------------------------------------------------------\n",
      "race                                                                                                                   (unlabeled)\n",
      "----------------------------------------------------------------------------------------------------------------------------------\n",
      "\n",
      "                  Type: Numeric (byte)\n",
      "\n",
      "                 Range: [1,9]                         Units: 1\n",
      "         Unique values: 6                         Missing .: 0/473,335\n",
      "\n",
      "            Tabulation: Freq.  Value\n",
      "                      186,412  1\n",
      "                       46,108  2\n",
      "                        2,797  3\n",
      "                      235,443  4\n",
      "                        2,508  5\n",
      "                           67  9\n",
      "\n",
      "----------------------------------------------------------------------------------------------------------------------------------\n",
      "house_urban                                                                                                            (unlabeled)\n",
      "----------------------------------------------------------------------------------------------------------------------------------\n",
      "\n",
      "                  Type: Numeric (byte)\n",
      "\n",
      "                 Range: [1,2]                         Units: 1\n",
      "         Unique values: 2                         Missing .: 0/473,335\n",
      "\n",
      "            Tabulation: Freq.  Value\n",
      "                      347,114  1\n",
      "                      126,221  2\n",
      "\n",
      "----------------------------------------------------------------------------------------------------------------------------------\n",
      "house_size                                                                                                             (unlabeled)\n",
      "----------------------------------------------------------------------------------------------------------------------------------\n",
      "\n",
      "                  Type: Numeric (float)\n",
      "\n",
      "                 Range: [1,21]                        Units: 1\n",
      "         Unique values: 19                        Missing .: 0/473,335\n",
      "\n",
      "                  Mean: 3.50263\n",
      "             Std. dev.:  1.5974\n",
      "\n",
      "           Percentiles:     10%       25%       50%       75%       90%\n",
      "                              2         2         3         4         5\n",
      "\n",
      "----------------------------------------------------------------------------------------------------------------------------------\n",
      "house_type                                                                                                             (unlabeled)\n",
      "----------------------------------------------------------------------------------------------------------------------------------\n",
      "\n",
      "                  Type: Numeric (byte)\n",
      "\n",
      "                 Range: [1,4]                         Units: 1\n",
      "         Unique values: 4                         Missing .: 0/473,335\n",
      "\n",
      "            Tabulation: Freq.  Value\n",
      "                       30,772  1\n",
      "                      325,499  2\n",
      "                      110,092  3\n",
      "                        6,972  4\n",
      "\n",
      "----------------------------------------------------------------------------------------------------------------------------------\n",
      "educ_lv                                                                                                                (unlabeled)\n",
      "----------------------------------------------------------------------------------------------------------------------------------\n",
      "\n",
      "                  Type: Numeric (byte)\n",
      "\n",
      "                 Range: [1,7]                         Units: 1\n",
      "         Unique values: 7                         Missing .: 27,130/473,335\n",
      "\n",
      "            Tabulation: Freq.  Value\n",
      "                       41,248  1\n",
      "                      160,831  2\n",
      "                       33,911  3\n",
      "                       31,392  4\n",
      "                      107,249  5\n",
      "                       17,545  6\n",
      "                       54,029  7\n",
      "                       27,130  .\n",
      "\n",
      "        Missing values:    educ_years==mv <-> educ_lv==mv\n",
      "\n",
      "----------------------------------------------------------------------------------------------------------------------------------\n",
      "educ_years                                                                                                             (unlabeled)\n",
      "----------------------------------------------------------------------------------------------------------------------------------\n",
      "\n",
      "                  Type: Numeric (float)\n",
      "\n",
      "                 Range: [0,16]                        Units: 1\n",
      "         Unique values: 17                        Missing .: 27,130/473,335\n",
      "\n",
      "                  Mean: 8.51822\n",
      "             Std. dev.: 4.94655\n",
      "\n",
      "           Percentiles:     10%       25%       50%       75%       90%\n",
      "                              1         5         9        12        16\n",
      "\n",
      "        Missing values:       educ_lv==mv <-> educ_years==mv\n",
      "\n",
      "----------------------------------------------------------------------------------------------------------------------------------\n",
      "ocup_njobs                                                                                                             (unlabeled)\n",
      "----------------------------------------------------------------------------------------------------------------------------------\n",
      "\n",
      "                  Type: Numeric (byte)\n",
      "\n",
      "                 Range: [1,3]                         Units: 1\n",
      "         Unique values: 3                         Missing .: 273,229/473,335\n",
      "\n",
      "            Tabulation: Freq.  Value\n",
      "                      194,163  1\n",
      "                        5,634  2\n",
      "                          309  3\n",
      "                      273,229  .\n",
      "\n",
      "        Missing values:       educ_lv==mv --> ocup_njobs==mv\n",
      "                           educ_years==mv --> ocup_njobs==mv\n",
      "                              ocup_lf==mv --> ocup_njobs==mv\n",
      "                            ocup_ocup==mv --> ocup_njobs==mv\n",
      "                         ocup_pension==mv <-> ocup_njobs==mv\n",
      "                             job_time==mv <-> ocup_njobs==mv\n",
      "                            job_group==mv <-> ocup_njobs==mv\n",
      "                              job_pos==mv <-> ocup_njobs==mv\n",
      "                            job_hours==mv <-> ocup_njobs==mv\n",
      "\n",
      "----------------------------------------------------------------------------------------------------------------------------------\n",
      "ocup_lf                                                                                                                (unlabeled)\n",
      "----------------------------------------------------------------------------------------------------------------------------------\n",
      "\n",
      "                  Type: Numeric (byte)\n",
      "\n",
      "                 Range: [1,2]                         Units: 1\n",
      "         Unique values: 2                         Missing .: 83,952/473,335\n",
      "\n",
      "            Tabulation: Freq.  Value\n",
      "                      218,300  1\n",
      "                      171,083  2\n",
      "                       83,952  .\n",
      "\n",
      "        Missing values:       educ_lv==mv --> ocup_lf==mv\n",
      "                           educ_years==mv --> ocup_lf==mv\n",
      "\n",
      "----------------------------------------------------------------------------------------------------------------------------------\n",
      "ocup_ocup                                                                                                              (unlabeled)\n",
      "----------------------------------------------------------------------------------------------------------------------------------\n",
      "\n",
      "                  Type: Numeric (byte)\n",
      "\n",
      "                 Range: [1,2]                         Units: 1\n",
      "         Unique values: 2                         Missing .: 255,035/473,335\n",
      "\n",
      "            Tabulation: Freq.  Value\n",
      "                      200,106  1\n",
      "                       18,194  2\n",
      "                      255,035  .\n",
      "\n",
      "        Missing values:       educ_lv==mv --> ocup_ocup==mv\n",
      "                           educ_years==mv --> ocup_ocup==mv\n",
      "                              ocup_lf==mv --> ocup_ocup==mv\n",
      "\n",
      "----------------------------------------------------------------------------------------------------------------------------------\n",
      "ocup_plf                                                                                                               (unlabeled)\n",
      "----------------------------------------------------------------------------------------------------------------------------------\n",
      "\n",
      "                  Type: Numeric (byte)\n",
      "\n",
      "                 Range: [1,2]                         Units: 1\n",
      "         Unique values: 2                         Missing .: 302,252/473,335\n",
      "\n",
      "            Tabulation: Freq.  Value\n",
      "                       18,910  1\n",
      "                      152,173  2\n",
      "                      302,252  .\n",
      "\n",
      "        Missing values:       educ_lv==mv --> ocup_plf==mv\n",
      "                           educ_years==mv --> ocup_plf==mv\n",
      "                              ocup_lf==mv --> ocup_plf==mv\n",
      "                          ocup_motive==mv <-> ocup_plf==mv\n",
      "\n",
      "----------------------------------------------------------------------------------------------------------------------------------\n",
      "ocup_low                                                                                                               (unlabeled)\n",
      "----------------------------------------------------------------------------------------------------------------------------------\n",
      "\n",
      "                  Type: Numeric (byte)\n",
      "\n",
      "                 Range: [1,1]                         Units: 1\n",
      "         Unique values: 1                         Missing .: 462,323/473,335\n",
      "\n",
      "            Tabulation: Freq.  Value\n",
      "                       11,012  1\n",
      "                      462,323  .\n",
      "\n",
      "        Missing values:       educ_lv==mv --> ocup_low==mv\n",
      "                           educ_years==mv --> ocup_low==mv\n",
      "                           ocup_njobs==mv --> ocup_low==mv\n",
      "                              ocup_lf==mv --> ocup_low==mv\n",
      "                            ocup_ocup==mv --> ocup_low==mv\n",
      "                         ocup_pension==mv --> ocup_low==mv\n",
      "                             job_time==mv --> ocup_low==mv\n",
      "                            job_group==mv --> ocup_low==mv\n",
      "                              job_pos==mv --> ocup_low==mv\n",
      "                            job_hours==mv --> ocup_low==mv\n",
      "\n",
      "----------------------------------------------------------------------------------------------------------------------------------\n",
      "ocup_disc                                                                                                              (unlabeled)\n",
      "----------------------------------------------------------------------------------------------------------------------------------\n",
      "\n",
      "                  Type: Numeric (byte)\n",
      "\n",
      "                 Range: [1,1]                         Units: 1\n",
      "         Unique values: 1                         Missing .: 461,194/473,335\n",
      "\n",
      "            Tabulation: Freq.  Value\n",
      "                       12,141  1\n",
      "                      461,194  .\n",
      "\n",
      "        Missing values:       educ_lv==mv --> ocup_disc==mv\n",
      "                           educ_years==mv --> ocup_disc==mv\n",
      "                              ocup_lf==mv --> ocup_disc==mv\n",
      "                             ocup_plf==mv --> ocup_disc==mv\n",
      "                          ocup_motive==mv --> ocup_disc==mv\n",
      "\n",
      "----------------------------------------------------------------------------------------------------------------------------------\n",
      "ocup_pension                                                                                                           (unlabeled)\n",
      "----------------------------------------------------------------------------------------------------------------------------------\n",
      "\n",
      "                  Type: Numeric (byte)\n",
      "\n",
      "                 Range: [1,2]                         Units: 1\n",
      "         Unique values: 2                         Missing .: 273,229/473,335\n",
      "\n",
      "            Tabulation: Freq.  Value\n",
      "                      119,791  1\n",
      "                       80,315  2\n",
      "                      273,229  .\n",
      "\n",
      "        Missing values:       educ_lv==mv --> ocup_pension==mv\n",
      "                           educ_years==mv --> ocup_pension==mv\n",
      "                           ocup_njobs==mv <-> ocup_pension==mv\n",
      "                              ocup_lf==mv --> ocup_pension==mv\n",
      "                            ocup_ocup==mv --> ocup_pension==mv\n",
      "                             job_time==mv <-> ocup_pension==mv\n",
      "                            job_group==mv <-> ocup_pension==mv\n",
      "                              job_pos==mv <-> ocup_pension==mv\n",
      "                            job_hours==mv <-> ocup_pension==mv\n",
      "\n",
      "----------------------------------------------------------------------------------------------------------------------------------\n",
      "ocup_motive                                                                                                            (unlabeled)\n",
      "----------------------------------------------------------------------------------------------------------------------------------\n",
      "\n",
      "                  Type: Numeric (byte)\n",
      "\n",
      "                 Range: [1,6]                         Units: 1\n",
      "         Unique values: 6                         Missing .: 302,252/473,335\n",
      "\n",
      "            Tabulation: Freq.  Value\n",
      "                       35,877  1\n",
      "                       25,293  2\n",
      "                       28,913  3\n",
      "                       43,370  4\n",
      "                       15,033  5\n",
      "                       22,597  6\n",
      "                      302,252  .\n",
      "\n",
      "        Missing values:       educ_lv==mv --> ocup_motive==mv\n",
      "                           educ_years==mv --> ocup_motive==mv\n",
      "                              ocup_lf==mv --> ocup_motive==mv\n",
      "                             ocup_plf==mv <-> ocup_motive==mv\n",
      "\n",
      "----------------------------------------------------------------------------------------------------------------------------------\n",
      "job_time                                                                                                               (unlabeled)\n",
      "----------------------------------------------------------------------------------------------------------------------------------\n",
      "\n",
      "                  Type: Numeric (byte)\n",
      "\n",
      "                 Range: [1,4]                         Units: 1\n",
      "         Unique values: 4                         Missing .: 273,229/473,335\n",
      "\n",
      "            Tabulation: Freq.  Value\n",
      "                        7,693  1\n",
      "                       36,036  2\n",
      "                       20,122  3\n",
      "                      136,255  4\n",
      "                      273,229  .\n",
      "\n",
      "        Missing values:       educ_lv==mv --> job_time==mv\n",
      "                           educ_years==mv --> job_time==mv\n",
      "                           ocup_njobs==mv <-> job_time==mv\n",
      "                              ocup_lf==mv --> job_time==mv\n",
      "                            ocup_ocup==mv --> job_time==mv\n",
      "                         ocup_pension==mv <-> job_time==mv\n",
      "                            job_group==mv <-> job_time==mv\n",
      "                              job_pos==mv <-> job_time==mv\n",
      "                            job_hours==mv <-> job_time==mv\n",
      "\n",
      "----------------------------------------------------------------------------------------------------------------------------------\n",
      "job_group                                                                                                              (unlabeled)\n",
      "----------------------------------------------------------------------------------------------------------------------------------\n",
      "\n",
      "                  Type: Numeric (float)\n",
      "\n",
      "                 Range: [1,12]                        Units: 1\n",
      "         Unique values: 12                        Missing .: 273,229/473,335\n",
      "\n",
      "                  Mean: 5.27416\n",
      "             Std. dev.: 3.18573\n",
      "\n",
      "           Percentiles:     10%       25%       50%       75%       90%\n",
      "                              1         2         4         8        10\n",
      "\n",
      "        Missing values:       educ_lv==mv --> job_group==mv\n",
      "                           educ_years==mv --> job_group==mv\n",
      "                           ocup_njobs==mv <-> job_group==mv\n",
      "                              ocup_lf==mv --> job_group==mv\n",
      "                            ocup_ocup==mv --> job_group==mv\n",
      "                         ocup_pension==mv <-> job_group==mv\n",
      "                             job_time==mv <-> job_group==mv\n",
      "                              job_pos==mv <-> job_group==mv\n",
      "                            job_hours==mv <-> job_group==mv\n",
      "\n",
      "----------------------------------------------------------------------------------------------------------------------------------\n",
      "job_pos                                                                                                                (unlabeled)\n",
      "----------------------------------------------------------------------------------------------------------------------------------\n",
      "\n",
      "                  Type: Numeric (float)\n",
      "\n",
      "                 Range: [1,11]                        Units: 1\n",
      "         Unique values: 11                        Missing .: 273,229/473,335\n",
      "\n",
      "                  Mean: 5.69075\n",
      "             Std. dev.: 2.39741\n",
      "\n",
      "           Percentiles:     10%       25%       50%       75%       90%\n",
      "                              2         4         5         8         9\n",
      "\n",
      "        Missing values:       educ_lv==mv --> job_pos==mv\n",
      "                           educ_years==mv --> job_pos==mv\n",
      "                           ocup_njobs==mv <-> job_pos==mv\n",
      "                              ocup_lf==mv --> job_pos==mv\n",
      "                            ocup_ocup==mv --> job_pos==mv\n",
      "                         ocup_pension==mv <-> job_pos==mv\n",
      "                             job_time==mv <-> job_pos==mv\n",
      "                            job_group==mv <-> job_pos==mv\n",
      "                            job_hours==mv <-> job_pos==mv\n",
      "\n",
      "----------------------------------------------------------------------------------------------------------------------------------\n",
      "job_pay                                                                                                                (unlabeled)\n",
      "----------------------------------------------------------------------------------------------------------------------------------\n",
      "\n",
      "                  Type: Numeric (float)\n",
      "\n",
      "                 Range: [50,3000000]                  Units: 10\n",
      "         Unique values: 2,433                     Missing .: 278,421/473,335\n",
      "\n",
      "                  Mean: 26478.7\n",
      "             Std. dev.: 40546.9\n",
      "\n",
      "           Percentiles:     10%       25%       50%       75%       90%\n",
      "                           5500     12120     16000     28000     50000\n",
      "\n",
      "        Missing values:       educ_lv==mv --> job_pay==mv\n",
      "                           educ_years==mv --> job_pay==mv\n",
      "                           ocup_njobs==mv --> job_pay==mv\n",
      "                              ocup_lf==mv --> job_pay==mv\n",
      "                            ocup_ocup==mv --> job_pay==mv\n",
      "                         ocup_pension==mv --> job_pay==mv\n",
      "                             job_time==mv --> job_pay==mv\n",
      "                            job_group==mv --> job_pay==mv\n",
      "                              job_pos==mv --> job_pay==mv\n",
      "                            job_hours==mv --> job_pay==mv\n",
      "\n",
      "----------------------------------------------------------------------------------------------------------------------------------\n",
      "job_hours                                                                                                              (unlabeled)\n",
      "----------------------------------------------------------------------------------------------------------------------------------\n",
      "\n",
      "                  Type: Numeric (float)\n",
      "\n",
      "                 Range: [1,120]                       Units: 1\n",
      "         Unique values: 115                       Missing .: 273,229/473,335\n",
      "\n",
      "                  Mean: 39.2715\n",
      "             Std. dev.: 12.1051\n",
      "\n",
      "           Percentiles:     10%       25%       50%       75%       90%\n",
      "                             20        36        40        44        50\n",
      "\n",
      "        Missing values:       educ_lv==mv --> job_hours==mv\n",
      "                           educ_years==mv --> job_hours==mv\n",
      "                           ocup_njobs==mv <-> job_hours==mv\n",
      "                              ocup_lf==mv --> job_hours==mv\n",
      "                            ocup_ocup==mv --> job_hours==mv\n",
      "                         ocup_pension==mv <-> job_hours==mv\n",
      "                             job_time==mv <-> job_hours==mv\n",
      "                            job_group==mv <-> job_hours==mv\n",
      "                              job_pos==mv <-> job_hours==mv\n"
     ]
    }
   ],
   "source": [
    "codebook, mv"
   ]
  },
  {
   "cell_type": "markdown",
   "metadata": {},
   "source": [
    "### Missing Data\n",
    "\n",
    "Most of the missing data on occupation and job variables comes from individuals outside of the working universe (not in working age, mostly).\n",
    "\n",
    "Note some facts about the data:"
   ]
  },
  {
   "cell_type": "markdown",
   "metadata": {},
   "source": [
    "The variable \"ocup_lf\" denotes people in or out of the working force. Below we can see:\n",
    "\n",
    "- The missing variables have a max age of 13 y/o\n",
    "- The proportions of individuals out of the universe, in the force, or out of the force.\n",
    "- For in-the-force individuals, those who are occupied or not."
   ]
  },
  {
   "cell_type": "code",
   "execution_count": 13,
   "metadata": {},
   "outputs": [
    {
     "name": "stdout",
     "output_type": "stream",
     "text": [
      "\n",
      "\n",
      "    Variable |        Obs        Mean    Std. dev.       Min        Max\n",
      "-------------+---------------------------------------------------------\n",
      "         age |     83,952    6.843792    3.946286          0         13\n",
      "\n",
      "\n",
      "    ocup_lf |      Freq.     Percent        Cum.\n",
      "------------+-----------------------------------\n",
      "          1 |    218,300       46.12       46.12\n",
      "          2 |    171,083       36.14       82.26\n",
      "          . |     83,952       17.74      100.00\n",
      "------------+-----------------------------------\n",
      "      Total |    473,335      100.00\n",
      "\n",
      "\n",
      "  ocup_ocup |      Freq.     Percent        Cum.\n",
      "------------+-----------------------------------\n",
      "          1 |    200,106       42.28       42.28\n",
      "          2 |     18,194        3.84       46.12\n",
      "          . |    255,035       53.88      100.00\n",
      "------------+-----------------------------------\n",
      "      Total |    473,335      100.00\n"
     ]
    }
   ],
   "source": [
    "summarize age if ocup_lf == .\n",
    "tabulate ocup_lf, missing\n",
    "tabulate ocup_ocup, missing"
   ]
  },
  {
   "cell_type": "markdown",
   "metadata": {},
   "source": [
    "Then, we can state some facts about the variables:\n",
    "\n",
    "- The $218,300$ obs. of \"ocup_ocup\" are only for those in the working force.\n",
    "- Only the ones outside the force are queried about their potential occupation, \"ocup_plf\", or motive, \"ocup_motive\".\n",
    "- Only the occupied ones present data for \"ocup_pension\"\n",
    "\n",
    "We can check those assessments, and none throws an error."
   ]
  },
  {
   "cell_type": "code",
   "execution_count": 14,
   "metadata": {},
   "outputs": [],
   "source": [
    "assert ocup_ocup != . if ocup_lf == 1\n",
    "assert ocup_plf != . if ocup_lf == 2\n",
    "assert ocup_motive != . if ocup_lf == 2\n",
    "assert ocup_pension != . if ocup_ocup == 1"
   ]
  },
  {
   "cell_type": "markdown",
   "metadata": {},
   "source": [
    "Moving forward, we can see that \"ocup_low\" and \"ocup_disc\" have lots of missing data. This is because those questions are only considered for people that wanted to work more than they did.\n"
   ]
  },
  {
   "cell_type": "markdown",
   "metadata": {},
   "source": [
    "Lastly, all the job variables are set in the universe of occupied people. The \"job_pay\" variable also has missing values in cases where there was no type of payment in any of the jobs."
   ]
  },
  {
   "cell_type": "markdown",
   "metadata": {},
   "source": [
    "### Data Visualization\n",
    "\n",
    "Now, lets visualize each variable."
   ]
  },
  {
   "cell_type": "markdown",
   "metadata": {},
   "source": [
    "#### Numeric Variables"
   ]
  },
  {
   "cell_type": "code",
   "execution_count": 15,
   "metadata": {},
   "outputs": [
    {
     "name": "stdout",
     "output_type": "stream",
     "text": [
      "\n",
      "(file figures/house_size.png not found)\n",
      "file figures/house_size.png saved as PNG format\n",
      "(file figures/educ_years.png not found)\n",
      "file figures/educ_years.png saved as PNG format\n",
      "(file figures/job_hours.png not found)\n",
      "file figures/job_hours.png saved as PNG format\n",
      "(file figures/age.png not found)\n",
      "file figures/age.png saved as PNG format\n",
      "(file figures/job_pay.png not found)\n",
      "file figures/job_pay.png saved as PNG format\n"
     ]
    }
   ],
   "source": [
    "foreach var in house_size educ_years job_hours age job_pay {\n",
    "    qui histogram `var' in 1/l, discrete frequency normal\n",
    "    graph export \"figures/`var'.png\", replace\n",
    "}"
   ]
  },
  {
   "cell_type": "markdown",
   "metadata": {},
   "source": [
    "The figures can be seen in the [figures/](figures/) folder. We can see that there are some outliers in \"job_pay\". Lets get a closer look:"
   ]
  },
  {
   "cell_type": "code",
   "execution_count": 16,
   "metadata": {},
   "outputs": [
    {
     "name": "stdout",
     "output_type": "stream",
     "text": [
      "\n",
      "(278,422 missing values generated)\n",
      "\n",
      "\n",
      "job_pay_bin |      Freq.     Percent        Cum.\n",
      "------------+-----------------------------------\n",
      "          0 |     34,582       17.74       17.74\n",
      "      10000 |     78,717       40.39       58.13\n",
      "      20000 |     33,632       17.25       75.38\n",
      "      30000 |     16,841        8.64       84.02\n",
      "      40000 |      7,917        4.06       88.08\n",
      "      50000 |      7,084        3.63       91.72\n",
      "      60000 |      3,431        1.76       93.48\n",
      "      70000 |      2,143        1.10       94.58\n",
      "      80000 |      1,927        0.99       95.57\n",
      "      90000 |        807        0.41       95.98\n",
      "     100000 |      5,853        3.00       98.98\n",
      "     200000 |      1,979        1.02      100.00\n",
      "------------+-----------------------------------\n",
      "      Total |    194,913      100.00\n"
     ]
    }
   ],
   "source": [
    "egen job_pay_bin = cut(job_pay), at(0(10000)100000 200000 3000000)\n",
    "tabulate job_pay_bin"
   ]
  },
  {
   "cell_type": "markdown",
   "metadata": {},
   "source": [
    "This might motivate us to, in the future, drop individuals with really large payments. For now, lets just see the values without outliers:"
   ]
  },
  {
   "cell_type": "code",
   "execution_count": 17,
   "metadata": {},
   "outputs": [
    {
     "name": "stdout",
     "output_type": "stream",
     "text": [
      "\n",
      "\n",
      "(file figures/job_pay_trimmed.png not found)\n",
      "file figures/job_pay_trimmed.png saved as PNG format\n"
     ]
    }
   ],
   "source": [
    "qui histogram job_pay in 1/l if job_pay <= 100000, bins(40) frequency normal\n",
    "graph export \"figures/job_pay_trimmed.png\", replace"
   ]
  },
  {
   "cell_type": "markdown",
   "metadata": {},
   "source": [
    "#### Categorical Variables"
   ]
  },
  {
   "cell_type": "markdown",
   "metadata": {},
   "source": [
    "The individual's basic characteristics:"
   ]
  },
  {
   "cell_type": "code",
   "execution_count": 18,
   "metadata": {},
   "outputs": [
    {
     "name": "stdout",
     "output_type": "stream",
     "text": [
      "\n",
      "           |                               race\n",
      "       sex |         1          2          3          4          5          9 |     Total\n",
      "-----------+------------------------------------------------------------------+----------\n",
      "         1 |    88,655     22,926      1,223    115,217      1,184         25 |   229,230 \n",
      "         2 |    97,757     23,182      1,574    120,226      1,324         42 |   244,105 \n",
      "-----------+------------------------------------------------------------------+----------\n",
      "     Total |   186,412     46,108      2,797    235,443      2,508         67 |   473,335 \n"
     ]
    }
   ],
   "source": [
    "tab sex race"
   ]
  },
  {
   "cell_type": "markdown",
   "metadata": {},
   "source": [
    "The household characteristics:"
   ]
  },
  {
   "cell_type": "code",
   "execution_count": 19,
   "metadata": {},
   "outputs": [
    {
     "name": "stdout",
     "output_type": "stream",
     "text": [
      "\n",
      "house_urba |                                             house_size\n",
      "         n |         1          2          3          4          5          6          7          8          9 |     Total\n",
      "-----------+---------------------------------------------------------------------------------------------------+----------\n",
      "         1 |    23,958     74,986     94,215     84,444     40,520     16,326      6,874      2,896      1,485 |   347,114 \n",
      "         2 |     6,814     26,158     31,413     30,088     16,575      7,992      3,647      1,664        990 |   126,221 \n",
      "-----------+---------------------------------------------------------------------------------------------------+----------\n",
      "     Total |    30,772    101,144    125,628    114,532     57,095     24,318     10,521      4,560      2,475 |   473,335 \n",
      "\n",
      "\n",
      "house_urba |                                             house_size\n",
      "         n |        10         11         12         13         14         15         16         17         18 |     Total\n",
      "-----------+---------------------------------------------------------------------------------------------------+----------\n",
      "         1 |       660        253        192        143         42         30         16         17         36 |   347,114 \n",
      "         2 |       390        264         84         39         70          0         16         17          0 |   126,221 \n",
      "-----------+---------------------------------------------------------------------------------------------------+----------\n",
      "     Total |     1,050        517        276        182        112         30         32         34         36 |   473,335 \n",
      "\n",
      "\n",
      "house_urba | house_size\n",
      "         n |        21 |     Total\n",
      "-----------+-----------+----------\n",
      "         1 |        21 |   347,114 \n",
      "         2 |         0 |   126,221 \n",
      "-----------+-----------+----------\n",
      "     Total |        21 |   473,335 \n"
     ]
    }
   ],
   "source": [
    "tab house_urban house_size"
   ]
  },
  {
   "cell_type": "markdown",
   "metadata": {},
   "source": [
    "The number of jobs, and the filtered versions for above 16 and above 18 years old:"
   ]
  },
  {
   "cell_type": "code",
   "execution_count": 20,
   "metadata": {},
   "outputs": [
    {
     "name": "stdout",
     "output_type": "stream",
     "text": [
      "\n",
      "\n",
      " ocup_njobs |      Freq.     Percent        Cum.\n",
      "------------+-----------------------------------\n",
      "          1 |    194,163       41.02       41.02\n",
      "          2 |      5,634        1.19       42.21\n",
      "          3 |        309        0.07       42.28\n",
      "          . |    273,229       57.72      100.00\n",
      "------------+-----------------------------------\n",
      "      Total |    473,335      100.00\n",
      "\n",
      "\n",
      " ocup_njobs |      Freq.     Percent        Cum.\n",
      "------------+-----------------------------------\n",
      "          1 |    193,333       51.47       51.47\n",
      "          2 |      5,624        1.50       52.97\n",
      "          3 |        309        0.08       53.05\n",
      "          . |    176,332       46.95      100.00\n",
      "------------+-----------------------------------\n",
      "      Total |    375,598      100.00\n",
      "\n",
      "\n",
      " ocup_njobs |      Freq.     Percent        Cum.\n",
      "------------+-----------------------------------\n",
      "          1 |    190,931       52.86       52.86\n",
      "          2 |      5,600        1.55       54.41\n",
      "          3 |        309        0.09       54.50\n",
      "          . |    164,366       45.50      100.00\n",
      "------------+-----------------------------------\n",
      "      Total |    361,206      100.00\n"
     ]
    }
   ],
   "source": [
    "tab ocup_njobs, missing\n",
    "tab ocup_njobs if age >= 16, missing\n",
    "tab ocup_njobs if age >= 18, missing"
   ]
  },
  {
   "cell_type": "markdown",
   "metadata": {},
   "source": [
    "The occupancy status:"
   ]
  },
  {
   "cell_type": "code",
   "execution_count": 21,
   "metadata": {},
   "outputs": [
    {
     "name": "stdout",
     "output_type": "stream",
     "text": [
      "\n",
      "\n",
      "           |            ocup_ocup\n",
      "   ocup_lf |         1          2          . |     Total\n",
      "-----------+---------------------------------+----------\n",
      "         1 |   200,106     18,194          0 |   218,300 \n",
      "         2 |         0          0    171,083 |   171,083 \n",
      "         . |         0          0     83,952 |    83,952 \n",
      "-----------+---------------------------------+----------\n",
      "     Total |   200,106     18,194    255,035 |   473,335 \n",
      "\n",
      "\n",
      "           |             ocup_plf\n",
      "   ocup_lf |         1          2          . |     Total\n",
      "-----------+---------------------------------+----------\n",
      "         1 |         0          0    218,300 |   218,300 \n",
      "         2 |    18,910    152,173          0 |   171,083 \n",
      "         . |         0          0     83,952 |    83,952 \n",
      "-----------+---------------------------------+----------\n",
      "     Total |    18,910    152,173    302,252 |   473,335 \n"
     ]
    }
   ],
   "source": [
    "tab ocup_lf ocup_ocup, missing\n",
    "tab ocup_lf ocup_plf, missing"
   ]
  },
  {
   "cell_type": "markdown",
   "metadata": {},
   "source": [
    "The low/none occupancy specific cases:"
   ]
  },
  {
   "cell_type": "code",
   "execution_count": 22,
   "metadata": {},
   "outputs": [
    {
     "name": "stdout",
     "output_type": "stream",
     "text": [
      "\n",
      "\n",
      "   ocup_low |      Freq.     Percent        Cum.\n",
      "------------+-----------------------------------\n",
      "          1 |     11,012       21.12       21.12\n",
      "          . |     41,133       78.88      100.00\n",
      "------------+-----------------------------------\n",
      "      Total |     52,145      100.00\n",
      "\n",
      "no observations\n"
     ]
    }
   ],
   "source": [
    "tab ocup_low if job_hours < 40, missing\n",
    "tab ocup_disc if ocup_njobs == 0, missing"
   ]
  },
  {
   "cell_type": "markdown",
   "metadata": {},
   "source": [
    "Pension contributors:"
   ]
  },
  {
   "cell_type": "code",
   "execution_count": 23,
   "metadata": {},
   "outputs": [
    {
     "name": "stdout",
     "output_type": "stream",
     "text": [
      "\n",
      "ocup_pensio |\n",
      "          n |      Freq.     Percent        Cum.\n",
      "------------+-----------------------------------\n",
      "          1 |    119,791       59.86       59.86\n",
      "          2 |     80,315       40.14      100.00\n",
      "------------+-----------------------------------\n",
      "      Total |    200,106      100.00\n"
     ]
    }
   ],
   "source": [
    "tab ocup_pension"
   ]
  },
  {
   "cell_type": "markdown",
   "metadata": {},
   "source": [
    "Position at and groups of jobs:"
   ]
  },
  {
   "cell_type": "code",
   "execution_count": 24,
   "metadata": {},
   "outputs": [
    {
     "name": "stdout",
     "output_type": "stream",
     "text": [
      "\n",
      "\n",
      "    job_pos |      Freq.     Percent        Cum.\n",
      "------------+-----------------------------------\n",
      "          1 |      5,832        2.91        2.91\n",
      "          2 |     21,844       10.92       13.83\n",
      "          3 |     14,672        7.33       21.16\n",
      "          4 |     15,224        7.61       28.77\n",
      "          5 |     42,885       21.43       50.20\n",
      "          6 |     20,377       10.18       60.38\n",
      "          7 |     25,202       12.59       72.98\n",
      "          8 |     17,062        8.53       81.51\n",
      "          9 |     35,376       17.68       99.18\n",
      "         10 |      1,612        0.81       99.99\n",
      "         11 |         20        0.01      100.00\n",
      "------------+-----------------------------------\n",
      "      Total |    200,106      100.00\n",
      "\n",
      "\n",
      "  job_group |      Freq.     Percent        Cum.\n",
      "------------+-----------------------------------\n",
      "          1 |     29,862       14.92       14.92\n",
      "          2 |     22,262       11.13       26.05\n",
      "          3 |     13,961        6.98       33.02\n",
      "          4 |     36,286       18.13       51.16\n",
      "          5 |      9,498        4.75       55.90\n",
      "          6 |     10,301        5.15       61.05\n",
      "          7 |     20,127       10.06       71.11\n",
      "          8 |     11,343        5.67       76.78\n",
      "          9 |     24,328       12.16       88.94\n",
      "         10 |      9,472        4.73       93.67\n",
      "         11 |     12,614        6.30       99.97\n",
      "         12 |         52        0.03      100.00\n",
      "------------+-----------------------------------\n",
      "      Total |    200,106      100.00\n"
     ]
    }
   ],
   "source": [
    "tab job_pos\n",
    "tab job_group"
   ]
  },
  {
   "cell_type": "markdown",
   "metadata": {},
   "source": [
    "Seniority at job:"
   ]
  },
  {
   "cell_type": "code",
   "execution_count": 25,
   "metadata": {},
   "outputs": [
    {
     "name": "stdout",
     "output_type": "stream",
     "text": [
      "\n",
      "   job_time |      Freq.     Percent        Cum.\n",
      "------------+-----------------------------------\n",
      "          1 |      7,693        3.84        3.84\n",
      "          2 |     36,036       18.01       21.85\n",
      "          3 |     20,122       10.06       31.91\n",
      "          4 |    136,255       68.09      100.00\n",
      "------------+-----------------------------------\n",
      "      Total |    200,106      100.00\n"
     ]
    }
   ],
   "source": [
    "tab job_time"
   ]
  },
  {
   "cell_type": "markdown",
   "metadata": {},
   "source": [
    "### Data Creation\n",
    "\n",
    "Lastly, lets create some variables of interest."
   ]
  },
  {
   "cell_type": "markdown",
   "metadata": {},
   "source": [
    "First, the \"ocup_njobs\" variable doesn't have a \"0 jobs\" value. We must create it based on the missing individuals with working-age:"
   ]
  },
  {
   "cell_type": "code",
   "execution_count": 54,
   "metadata": {},
   "outputs": [
    {
     "name": "stdout",
     "output_type": "stream",
     "text": [
      "(0 real changes made)\n"
     ]
    }
   ],
   "source": [
    "replace ocup_njobs = 0 if age >= 14 & missing(ocup_njobs)"
   ]
  },
  {
   "cell_type": "markdown",
   "metadata": {},
   "source": [
    "A very important variable to control pay with job hours is the ratio between them. Lets visualize it with a scatterplot, then create such variable."
   ]
  },
  {
   "cell_type": "code",
   "execution_count": 55,
   "metadata": {},
   "outputs": [
    {
     "name": "stdout",
     "output_type": "stream",
     "text": [
      "\n",
      "\n",
      "file figures/pay_hours.png saved as PNG format\n",
      "\n",
      "variable job_ratio already defined\n"
     ]
    },
    {
     "name": "stderr",
     "output_type": "stream",
     "text": [
      "r(110);\n",
      "r(110);\n"
     ]
    },
    {
     "name": "stdout",
     "output_type": "stream",
     "text": [
      "\n",
      "\n"
     ]
    }
   ],
   "source": [
    "#delim ;\n",
    "    hexplot\n",
    "    job_pay job_hours\n",
    "    if (job_pay <= 1000000) & (job_hours <= 100),\n",
    "    cuts(0(0.5)@max);\n",
    "#delim cr\n",
    "graph export \"figures/pay_hours.png\", replace\n",
    "\n",
    "generate job_ratio = job_pay / job_hours\n",
    "\n",
    "histogram job_ratio in 1/l if job_ratio < 5500, bins(20)"
   ]
  },
  {
   "cell_type": "markdown",
   "metadata": {},
   "source": [
    "We can also create a variable that comprises the whole occupational \"status\" of an individual: "
   ]
  },
  {
   "cell_type": "code",
   "execution_count": 66,
   "metadata": {},
   "outputs": [
    {
     "name": "stdout",
     "output_type": "stream",
     "text": [
      "\n",
      "\n",
      "(83,952 real changes made)\n",
      "\n",
      "\n"
     ]
    }
   ],
   "source": [
    "egen _temp = concat(ocup_lf ocup_ocup ocup_pension), punct(\"-\")\n",
    "replace _temp = \".\" if _temp == \".-.-.\"\n",
    "encode _temp, gen(ocup_status)\n",
    "drop _temp"
   ]
  },
  {
   "cell_type": "markdown",
   "metadata": {},
   "source": [
    "## Data Exploration"
   ]
  },
  {
   "cell_type": "markdown",
   "metadata": {},
   "source": [
    "In this section, I will explore the relationship between the variables, specially in what affects the occupation status (\"ocup_lf\" + \"ocup_ocup\" + \"ocup_pension\") and job pay/hours."
   ]
  },
  {
   "cell_type": "markdown",
   "metadata": {},
   "source": [
    "### Pay Ratio"
   ]
  },
  {
   "cell_type": "markdown",
   "metadata": {},
   "source": [
    "First, lets see its conditional distribution on the categorical variables, via violinplots:"
   ]
  },
  {
   "cell_type": "code",
   "execution_count": 29,
   "metadata": {},
   "outputs": [
    {
     "name": "stdout",
     "output_type": "stream",
     "text": [
      "\n",
      "(file figures/ratiov_v_house_type.png not found)\n",
      "file figures/ratiov_v_house_type.png saved as PNG format\n",
      "(file figures/ratiov_v_house_urban.png not found)\n",
      "file figures/ratiov_v_house_urban.png saved as PNG format\n",
      "(file figures/ratiov_v_sex.png not found)\n",
      "file figures/ratiov_v_sex.png saved as PNG format\n",
      "(file figures/ratiov_v_race.png not found)\n",
      "file figures/ratiov_v_race.png saved as PNG format\n",
      "(file figures/ratiov_v_job_group.png not found)\n",
      "file figures/ratiov_v_job_group.png saved as PNG format\n",
      "(file figures/ratiov_v_job_pos.png not found)\n",
      "file figures/ratiov_v_job_pos.png saved as PNG format\n",
      "(file figures/ratiov_v_ocup_njobs.png not found)\n",
      "file figures/ratiov_v_ocup_njobs.png saved as PNG format\n"
     ]
    }
   ],
   "source": [
    "foreach var in house_type house_urban sex race job_group job_pos ocup_njobs {\n",
    "    qui vioplot job_ratio if job_ratio < 5500, over(`var')\n",
    "    graph export \"figures/ratiov_v_`var'.png\", replace\n",
    "}"
   ]
  },
  {
   "cell_type": "markdown",
   "metadata": {},
   "source": [
    "Now, lets look for relationships with the continuous variables with hexplots:"
   ]
  },
  {
   "cell_type": "code",
   "execution_count": 30,
   "metadata": {},
   "outputs": [
    {
     "name": "stdout",
     "output_type": "stream",
     "text": [
      "\n",
      "(file figures/ratiov_v_house_size.png not found)\n",
      "file figures/ratiov_v_house_size.png saved as PNG format\n",
      "(file figures/ratiov_v_age.png not found)\n",
      "file figures/ratiov_v_age.png saved as PNG format\n",
      "(file figures/ratiov_v_educ_years.png not found)\n",
      "file figures/ratiov_v_educ_years.png saved as PNG format\n"
     ]
    }
   ],
   "source": [
    "foreach var in house_size age educ_years {\n",
    "    qui hexplot job_ratio `var' if job_ratio < 5500\n",
    "    graph export \"figures/ratiov_v_`var'.png\", replace\n",
    "}"
   ]
  },
  {
   "cell_type": "markdown",
   "metadata": {},
   "source": [
    "### Occupation Status"
   ]
  },
  {
   "cell_type": "markdown",
   "metadata": {},
   "source": [
    "We can use heatplots to compare tabulations between categorical variables:"
   ]
  },
  {
   "cell_type": "code",
   "execution_count": 31,
   "metadata": {},
   "outputs": [
    {
     "name": "stdout",
     "output_type": "stream",
     "text": [
      "\n",
      "(file figures/status_v_house_type.png not found)\n",
      "file figures/status_v_house_type.png saved as PNG format\n",
      "(file figures/status_v_house_urban.png not found)\n",
      "file figures/status_v_house_urban.png saved as PNG format\n",
      "(file figures/status_v_sex.png not found)\n",
      "file figures/status_v_sex.png saved as PNG format\n",
      "(file figures/status_v_race.png not found)\n",
      "file figures/status_v_race.png saved as PNG format\n",
      "(file figures/status_v_job_group.png not found)\n",
      "file figures/status_v_job_group.png saved as PNG format\n",
      "(file figures/status_v_job_pos.png not found)\n",
      "file figures/status_v_job_pos.png saved as PNG format\n",
      "(file figures/status_v_ocup_njobs.png not found)\n",
      "file figures/status_v_ocup_njobs.png saved as PNG format\n"
     ]
    }
   ],
   "source": [
    "foreach var in house_type house_urban sex race job_group job_pos ocup_njobs {\n",
    "    qui heatplot ocup_status `var', discrete\n",
    "    graph export \"figures/status_v_`var'.png\", replace\n",
    "}"
   ]
  },
  {
   "cell_type": "markdown",
   "metadata": {},
   "source": [
    "Lets compare continuous variables using violinplots:"
   ]
  },
  {
   "cell_type": "code",
   "execution_count": 34,
   "metadata": {},
   "outputs": [
    {
     "name": "stdout",
     "output_type": "stream",
     "text": [
      "\n",
      "(file figures/status_v_house_size.png not found)\n",
      "file figures/status_v_house_size.png saved as PNG format\n",
      "(file figures/status_v_age.png not found)\n",
      "file figures/status_v_age.png saved as PNG format\n",
      "(file figures/status_v_educ_years.png not found)\n",
      "file figures/status_v_educ_years.png saved as PNG format\n"
     ]
    }
   ],
   "source": [
    "foreach var in house_size age educ_years {\n",
    "    qui vioplot `var', over(ocup_status)\n",
    "    graph export \"figures/status_v_`var'.png\", replace\n",
    "}"
   ]
  },
  {
   "cell_type": "markdown",
   "metadata": {},
   "source": [
    "## Modelling"
   ]
  },
  {
   "cell_type": "markdown",
   "metadata": {},
   "source": [
    "Now, we can run our regressions. We will focus on the effects on \"job_pay\" and \"ocup_status\"."
   ]
  },
  {
   "cell_type": "markdown",
   "metadata": {},
   "source": [
    "### Job Pay"
   ]
  },
  {
   "cell_type": "markdown",
   "metadata": {},
   "source": [
    "The first regression is \"job_pay\" on the several covariates availabe:"
   ]
  },
  {
   "cell_type": "code",
   "execution_count": 50,
   "metadata": {},
   "outputs": [
    {
     "name": "stdout",
     "output_type": "stream",
     "text": [
      "\n",
      "Linear regression                               Number of obs     =    194,914\n",
      "                                                F(36, 194877)     =     878.27\n",
      "                                                Prob > F          =     0.0000\n",
      "                                                R-squared         =     0.2276\n",
      "                                                Root MSE          =      35639\n",
      "\n",
      "-------------------------------------------------------------------------------\n",
      "              |               Robust\n",
      "      job_pay | Coefficient  std. err.      t    P>|t|     [95% conf. interval]\n",
      "--------------+----------------------------------------------------------------\n",
      "   house_size |   363.5681   61.51845     5.91   0.000     242.9934    484.1428\n",
      "          age |     411.19   8.263334    49.76   0.000      394.994    427.3859\n",
      "   educ_years |   1683.024   30.37001    55.42   0.000     1623.499    1742.548\n",
      "              |\n",
      "   house_type |\n",
      "           2  |    -563.71     400.32    -1.41   0.159    -1348.328    220.9077\n",
      "           3  |  -4300.741   437.2677    -9.84   0.000    -5157.775   -3443.707\n",
      "           4  |  -629.6421   777.1372    -0.81   0.418    -2152.812    893.5283\n",
      "              |\n",
      "2.house_urban |  -4169.533   174.8759   -23.84   0.000    -4512.286   -3826.781\n",
      "        2.sex |  -9379.972   206.4179   -45.44   0.000    -9784.546   -8975.398\n",
      "              |\n",
      "         race |\n",
      "           2  |  -6683.496   227.8151   -29.34   0.000    -7130.008   -6236.983\n",
      "           3  |   -414.005   1148.719    -0.36   0.719    -2665.468    1837.458\n",
      "           4  |  -6252.949   175.2367   -35.68   0.000    -6596.409   -5909.489\n",
      "           5  |  -7772.261   688.7176   -11.29   0.000    -9122.131   -6422.391\n",
      "           9  |   12395.07   15038.02     0.82   0.410    -17079.08    41869.22\n",
      "              |\n",
      "    job_group |\n",
      "           2  |  -252.7764    313.664    -0.81   0.420    -867.5503    361.9975\n",
      "           3  |   -1626.99   347.1627    -4.69   0.000    -2307.421   -946.5593\n",
      "           4  |  -3097.968   296.7611   -10.44   0.000    -3679.613   -2516.323\n",
      "           5  |  -727.4905   413.9055    -1.76   0.079    -1538.735     83.7543\n",
      "           6  |  -5209.076   414.3263   -12.57   0.000    -6021.146   -4397.006\n",
      "           7  |  -686.1241   414.4202    -1.66   0.098    -1498.378    126.1296\n",
      "           8  |   8583.962   542.9131    15.81   0.000     7519.865    9648.058\n",
      "           9  |  -8026.148   402.2348   -19.95   0.000    -8814.519   -7237.777\n",
      "          10  |  -6698.593   404.8938   -16.54   0.000    -7492.175   -5905.011\n",
      "          11  |  -2661.664   259.1803   -10.27   0.000    -3169.651   -2153.676\n",
      "          12  |  -4997.107    2488.35    -2.01   0.045    -9874.213   -120.0005\n",
      "              |\n",
      "      job_pos |\n",
      "           2  |  -13355.32    1283.97   -10.40   0.000    -15871.87   -10838.77\n",
      "           3  |  -31715.87    1240.89   -25.56   0.000    -34147.98   -29283.75\n",
      "           4  |  -41434.21   1187.742   -34.88   0.000    -43762.16   -39106.27\n",
      "           5  |  -39721.25   1185.509   -33.51   0.000    -42044.82   -37397.68\n",
      "           6  |  -40715.38   1239.155   -32.86   0.000     -43144.1   -38286.67\n",
      "           7  |  -43499.99   1216.805   -35.75   0.000    -45884.89   -41115.08\n",
      "           8  |  -43538.59    1198.82   -36.32   0.000    -45888.25   -41188.93\n",
      "           9  |  -44437.18   1185.653   -37.48   0.000    -46761.03   -42113.33\n",
      "          10  |  -16655.95   1731.453    -9.62   0.000    -20049.56   -13262.35\n",
      "          11  |  -39899.14   3808.101   -10.48   0.000    -47362.93   -32435.36\n",
      "              |\n",
      "   ocup_njobs |\n",
      "           2  |   24277.99   976.9764    24.85   0.000     22363.14    26192.84\n",
      "           3  |   99151.16   8098.614    12.24   0.000     83278.07    115024.3\n",
      "              |\n",
      "        _cons |   38057.31   1431.342    26.59   0.000     35251.92    40862.71\n",
      "-------------------------------------------------------------------------------\n"
     ]
    }
   ],
   "source": [
    "#delim ;\n",
    "    regress\n",
    "    job_pay\n",
    "    house_size age educ_years\n",
    "    i.house_type i.house_urban i.sex i.race i.job_group i.job_pos i.ocup_njobs,\n",
    "    vce(robust);\n",
    "#delim cr"
   ]
  },
  {
   "cell_type": "markdown",
   "metadata": {},
   "source": [
    "Diagnostics (heteorskedasticity test and VIF) are below. We see no relevant inflator variables, but we have heteroskedasticity, so we must use robust standard errors."
   ]
  },
  {
   "cell_type": "code",
   "execution_count": 51,
   "metadata": {},
   "outputs": [
    {
     "name": "stdout",
     "output_type": "stream",
     "text": [
      "\n",
      "\n",
      "file C:/Users/ricar/.stata_kernel_cache/graph2.svg saved as SVG format\n",
      "file C:/Users/ricar/.stata_kernel_cache/graph2.pdf saved as PDF format\n",
      "\n",
      "(file figures/pay_hetero.png not found)\n",
      "file figures/pay_hetero.png saved as PNG format\n",
      "\n",
      "\n",
      "    Variable |       VIF       1/VIF  \n",
      "-------------+----------------------\n",
      "  house_size |      1.55    0.643606\n",
      "         age |      1.23    0.810544\n",
      "  educ_years |      1.87    0.533627\n",
      "  house_type |\n",
      "          2  |      3.80    0.262815\n",
      "          3  |      4.36    0.229459\n",
      "          4  |      1.32    0.759561\n",
      "2.house_ur~n |      1.55    0.643324\n",
      "       2.sex |      1.38    0.723947\n",
      "        race |\n",
      "          2  |      1.15    0.868948\n",
      "          3  |      1.01    0.990308\n",
      "          4  |      1.20    0.834221\n",
      "          5  |      1.01    0.990243\n",
      "          9  |      1.00    0.999672\n",
      "   job_group |\n",
      "          2  |      3.63    0.275604\n",
      "          3  |      2.79    0.358770\n",
      "          4  |      5.01    0.199438\n",
      "          5  |      2.44    0.409946\n",
      "          6  |      2.33    0.428332\n",
      "          7  |      3.58    0.279590\n",
      "          8  |      2.69    0.371080\n",
      "          9  |      4.44    0.225070\n",
      "         10  |      2.33    0.429302\n",
      "         11  |      2.41    0.414860\n",
      "         12  |      1.07    0.933155\n",
      "     job_pos |\n",
      "          2  |      4.58    0.218404\n",
      "          3  |      3.35    0.298823\n",
      "          4  |      3.44    0.291101\n",
      "          5  |      6.84    0.146234\n",
      "          6  |      5.75    0.173763\n",
      "          7  |      5.16    0.193745\n",
      "          8  |      4.10    0.243764\n",
      "          9  |      6.50    0.153729\n",
      "         10  |      1.42    0.702510\n",
      "         11  |      1.07    0.935491\n",
      "  ocup_njobs |\n",
      "          2  |      1.02    0.978525\n",
      "          3  |      1.00    0.996285\n",
      "-------------+----------------------\n",
      "    Mean VIF |      2.76\n"
     ]
    }
   ],
   "source": [
    "rvfplot, yline(0)\n",
    "graph export \"figures/pay_hetero.png\", replace\n",
    "//estat hettest\n",
    "\n",
    "estat vif"
   ]
  },
  {
   "cell_type": "markdown",
   "metadata": {},
   "source": [
    "### Occupation Status"
   ]
  },
  {
   "cell_type": "markdown",
   "metadata": {},
   "source": [
    "Now, a multinomial logistic regression with \"ocup_status\"."
   ]
  },
  {
   "cell_type": "code",
   "execution_count": 67,
   "metadata": {},
   "outputs": [
    {
     "name": "stdout",
     "output_type": "stream",
     "text": [
      "\n",
      "Iteration 0:  Log pseudolikelihood = -134783.43  \n",
      "Iteration 1:  Log pseudolikelihood = -111258.85  \n",
      "Iteration 2:  Log pseudolikelihood = -110626.91  \n",
      "Iteration 3:  Log pseudolikelihood = -110584.71  \n",
      "Iteration 4:  Log pseudolikelihood = -110577.83  \n",
      "Iteration 5:  Log pseudolikelihood = -110576.26  \n",
      "Iteration 6:  Log pseudolikelihood = -110575.88  \n",
      "Iteration 7:  Log pseudolikelihood =  -110575.8  \n",
      "Iteration 8:  Log pseudolikelihood = -110575.79  \n",
      "Iteration 9:  Log pseudolikelihood = -110575.79  \n",
      "Iteration 10: Log pseudolikelihood = -110575.79  \n",
      "Iteration 11: Log pseudolikelihood = -110575.79  \n",
      "Iteration 12: Log pseudolikelihood = -110575.79  \n",
      "Iteration 13: Log pseudolikelihood = -110575.79  \n",
      "\n",
      "Multinomial logistic regression                      Number of obs =   200,106\n",
      "                                                     Wald chi2(36) = 599027.58\n",
      "                                                     Prob > chi2   =    0.0000\n",
      "Log pseudolikelihood = -110575.79                    Pseudo R2     =    0.1796\n",
      "\n",
      "-------------------------------------------------------------------------------\n",
      "              |               Robust\n",
      "  ocup_status | Coefficient  std. err.      z    P>|z|     [95% conf. interval]\n",
      "--------------+----------------------------------------------------------------\n",
      "1_1_1         |  (base outcome)\n",
      "--------------+----------------------------------------------------------------\n",
      "1_1_2         |\n",
      "   house_size |   .0349983   .0042715     8.19   0.000     .0266263    .0433703\n",
      "          age |  -.0079014   .0004417   -17.89   0.000    -.0087672   -.0070356\n",
      "   educ_years |  -.0862593   .0016221   -53.18   0.000    -.0894386   -.0830801\n",
      "              |\n",
      "   house_type |\n",
      "           2  |   -.375491   .0223049   -16.83   0.000    -.4192078   -.3317743\n",
      "           3  |  -.2403817   .0268722    -8.95   0.000    -.2930503   -.1877132\n",
      "           4  |  -.2903626   .0483783    -6.00   0.000    -.3851824   -.1955428\n",
      "              |\n",
      "2.house_urban |   .3987543    .014888    26.78   0.000     .3695743    .4279344\n",
      "        2.sex |   .2180296   .0124281    17.54   0.000      .193671    .2423881\n",
      "              |\n",
      "         race |\n",
      "           2  |   .2717666   .0176206    15.42   0.000     .2372309    .3063023\n",
      "           3  |   .3940419   .0667804     5.90   0.000     .2631546    .5249291\n",
      "           4  |   .4266683   .0113235    37.68   0.000     .4044746    .4488619\n",
      "           5  |   .5916623   .0702331     8.42   0.000      .454008    .7293166\n",
      "           9  |   .5681311   .4503402     1.26   0.207    -.3145196    1.450782\n",
      "              |\n",
      "    job_group |\n",
      "           2  |  -1.149845   .0288624   -39.84   0.000    -1.206414   -1.093275\n",
      "           3  |   .1662765   .0305699     5.44   0.000     .1063606    .2261925\n",
      "           4  |  -.5680028   .0274017   -20.73   0.000    -.6217091   -.5142965\n",
      "           5  |  -.0082909   .0346601    -0.24   0.811    -.0762234    .0596416\n",
      "           6  |   .0271329   .0327806     0.83   0.408    -.0371159    .0913817\n",
      "           7  |  -.9275355   .0305914   -30.32   0.000    -.9874936   -.8675774\n",
      "           8  |  -1.755916   .0419137   -41.89   0.000    -1.838065   -1.673767\n",
      "           9  |  -1.646167   .0333117   -49.42   0.000    -1.711457   -1.580878\n",
      "          10  |    .311011   .0339578     9.16   0.000      .244455    .3775671\n",
      "          11  |   .2018693   .0306604     6.58   0.000     .1417761    .2619626\n",
      "          12  |   .3737129   .2940372     1.27   0.204    -.2025894    .9500152\n",
      "              |\n",
      "      job_pos |\n",
      "           2  |   1.153594   .0485632    23.75   0.000     1.058412    1.248776\n",
      "           3  |   .9203208   .0490882    18.75   0.000     .8241096    1.016532\n",
      "           4  |   .0580801   .0505548     1.15   0.251    -.0410055    .1571656\n",
      "           5  |   1.205709   .0445835    27.04   0.000     1.118327     1.29309\n",
      "           6  |   1.252881   .0505636    24.78   0.000     1.153779    1.351984\n",
      "           7  |   1.473462   .0462909    31.83   0.000     1.382734    1.564191\n",
      "           8  |   .8937772     .04781    18.69   0.000     .8000713    .9874831\n",
      "           9  |   1.169705   .0456469    25.63   0.000     1.080238    1.259171\n",
      "          10  |  -17.58307   .0610908  -287.82   0.000    -17.70281   -17.46334\n",
      "          11  |   .3493537   .6479361     0.54   0.590    -.9205778    1.619285\n",
      "              |\n",
      "   ocup_njobs |\n",
      "           2  |  -.3941299   .0344315   -11.45   0.000    -.4616143   -.3266454\n",
      "           3  |  -.3460915   .1513592    -2.29   0.022    -.6427501   -.0494329\n",
      "              |\n",
      "        _cons |   .0273585   .0622935     0.44   0.661    -.0947345    .1494515\n",
      "-------------------------------------------------------------------------------\n",
      "Note: 1612 observations completely determined. Standard errors questionable.\n"
     ]
    }
   ],
   "source": [
    "#delim ;\n",
    "    mlogit\n",
    "    ocup_status\n",
    "    house_size age educ_years i.house_type i.house_urban i.sex i.race i.job_group i.job_pos i.ocup_njobs,\n",
    "    vce(robust);\n",
    "#delim cr"
   ]
  }
 ],
 "metadata": {
  "kernelspec": {
   "display_name": "Stata",
   "language": "stata",
   "name": "stata"
  },
  "language_info": {
   "codemirror_mode": "stata",
   "file_extension": ".do",
   "mimetype": "text/x-stata",
   "name": "stata",
   "version": "15.1"
  }
 },
 "nbformat": 4,
 "nbformat_minor": 2
}
