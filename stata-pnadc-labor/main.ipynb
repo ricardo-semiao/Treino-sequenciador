{
 "cells": [
  {
   "cell_type": "markdown",
   "metadata": {},
   "source": [
    "# Analysis of Brazilian Employment with PNADc Data\n",
    "\n",
    "[intro]\n"
   ]
  },
  {
   "cell_type": "markdown",
   "metadata": {},
   "source": [
    "## Setup"
   ]
  },
  {
   "cell_type": "markdown",
   "metadata": {},
   "source": [
    "First step: clearing the working environment, and setting global options."
   ]
  },
  {
   "cell_type": "code",
   "execution_count": 43,
   "metadata": {},
   "outputs": [],
   "source": [
    "clear\n",
    "set linesize 130"
   ]
  },
  {
   "cell_type": "markdown",
   "metadata": {},
   "source": [
    "Loading the data with the infix command. The delimiters of each variable can be found in the [dictionary](data/PNADC_dict.xls)."
   ]
  },
  {
   "cell_type": "code",
   "execution_count": 44,
   "metadata": {},
   "outputs": [
    {
     "name": "stdout",
     "output_type": "stream",
     "text": [
      "(473,335 observations read)\n"
     ]
    }
   ],
   "source": [
    "#delim ;\n",
    "    infix\n",
    "    id_year 1-4\n",
    "    id_tri 5-5\n",
    "    id_state 6-7\n",
    "    sex 95-95\n",
    "    age 104-106\n",
    "    race 107-107\n",
    "    house_urban 33-33\n",
    "    house_size 89-90\n",
    "    house_type 402-402\n",
    "    educ_lv 405-405\n",
    "    educ_years 406-407\n",
    "    ocup_njobs 151-151\n",
    "    ocup_lf 409-409\n",
    "    ocup_ocup 410-410\n",
    "    ocup_plf 411-411\n",
    "    ocup_low 413-413\n",
    "    ocup_disc 414-414\n",
    "    ocup_pension 423-423\n",
    "    ocup_motive 461-461\n",
    "    job_time 247-247\n",
    "    job_group 419-420\n",
    "    job_pos 421-422\n",
    "    job_pay 444-452\n",
    "    job_hours 462-464\n",
    "    using \"data\\PNADC_012023.txt\";\n",
    "#delim cr\n"
   ]
  },
  {
   "cell_type": "markdown",
   "metadata": {},
   "source": [
    "## Data Processing"
   ]
  },
  {
   "cell_type": "markdown",
   "metadata": {},
   "source": [
    "Lets do a initial analysis of the data, see if there are any problems we need to deal with, before starting the actual study."
   ]
  },
  {
   "cell_type": "markdown",
   "metadata": {},
   "source": [
    "### Dataset Summary\n",
    "\n",
    "Lets start with visualizing and summarizing the dataset as a whole."
   ]
  },
  {
   "cell_type": "markdown",
   "metadata": {},
   "source": [
    "Head, mid, and tail of dataset:"
   ]
  },
  {
   "cell_type": "code",
   "execution_count": 76,
   "metadata": {},
   "outputs": [],
   "source": [
    "* To open in interactive window:\n",
    "browse if inrange(_n, 1, 10) | inrange(_n, round(_N/2) - 5, round(_N/2) + 5) | inrange(_n, _N-9, _N)\n",
    "\n",
    "* To print to the cell output:\n",
    "*list if inrange(_n, 1, 5) | inrange(_n, round(_N/2) - 2, round(_N/2) + 2) | inrange(_n, _N-4, _N)"
   ]
  },
  {
   "cell_type": "markdown",
   "metadata": {},
   "source": [
    "Basic descriptive statistics of all variables:"
   ]
  },
  {
   "cell_type": "code",
   "execution_count": 136,
   "metadata": {},
   "outputs": [
    {
     "name": "stdout",
     "output_type": "stream",
     "text": [
      "\n",
      "    Variable |        Obs        Mean    Std. dev.       Min        Max\n",
      "-------------+---------------------------------------------------------\n",
      "     id_year |    473,335        2023           0       2023       2023\n",
      "      id_tri |    473,335           1           0          1          1\n",
      "    id_state |    473,335    30.89177    11.00204         11         53\n",
      "         sex |    473,335    1.515713    .4997536          1          2\n",
      "         age |    473,335     37.3425    22.22398          0        115\n",
      "        race |    473,335    2.623795    1.433491          1          9\n",
      " house_urban |    473,335    1.266663    .4422152          1          2\n",
      "  house_size |    473,335    3.502633      1.5974          1         21\n",
      "  house_type |    473,335    2.197036     .563644          1          4\n",
      "     educ_lv |    446,205    3.608048    1.919254          1          7\n",
      "  educ_years |    446,205    8.518224    4.946553          0         16\n",
      "  ocup_njobs |    200,106    1.031243    .1826358          1          3\n",
      "     ocup_lf |    389,383    1.439369     .496311          1          2\n",
      "   ocup_ocup |    218,300    1.083344    .2764021          1          2\n",
      "    ocup_plf |    171,083    1.889469    .3135516          1          2\n",
      "    ocup_low |     11,012           1           0          1          1\n",
      "   ocup_disc |     12,141           1           0          1          1\n",
      "ocup_pension |    200,106    1.401362    .4901753          1          2\n",
      " ocup_motive |    171,083    3.258237    1.647334          1          6\n",
      "    job_time |    200,106    6.687731    6.329246          1         21\n",
      "   job_group |    200,106    5.274165    3.185725          1         12\n",
      "     job_pos |    200,106    5.690749    2.397413          1         11\n",
      "     job_pay |    194,914    26478.74    40546.88         50    3000000\n",
      "   job_hours |    200,106    39.27154    12.10511          1        120\n"
     ]
    }
   ],
   "source": [
    "summarize, separator(99)"
   ]
  },
  {
   "cell_type": "markdown",
   "metadata": {},
   "source": [
    "We can see that the occupation and job variables have lots of missing data. We will direct our attention to that in a moment."
   ]
  },
  {
   "cell_type": "markdown",
   "metadata": {},
   "source": [
    "Below we have extended details for each variable. We can also see the relation of the existence of missing values between the variables."
   ]
  },
  {
   "cell_type": "code",
   "execution_count": 147,
   "metadata": {},
   "outputs": [
    {
     "name": "stdout",
     "output_type": "stream",
     "text": [
      "\n",
      "--------------------------------------------------------------------------------\n",
      "id_year                                                              (unlabeled)\n",
      "--------------------------------------------------------------------------------\n",
      "\n",
      "                  Type: Numeric (float)\n",
      "\n",
      "                 Range: [2023,2023]                   Units: 1\n",
      "         Unique values: 1                         Missing .: 0/473,335\n",
      "\n",
      "            Tabulation: Freq.  Value\n",
      "                      473,335  2023\n",
      "\n",
      "--------------------------------------------------------------------------------\n",
      "id_tri                                                               (unlabeled)\n",
      "--------------------------------------------------------------------------------\n",
      "\n",
      "                  Type: Numeric (byte)\n",
      "\n",
      "                 Range: [1,1]                         Units: 1\n",
      "         Unique values: 1                         Missing .: 0/473,335\n",
      "\n",
      "            Tabulation: Freq.  Value\n",
      "                      473,335  1\n",
      "\n",
      "--------------------------------------------------------------------------------\n",
      "id_state                                                             (unlabeled)\n",
      "--------------------------------------------------------------------------------\n",
      "\n",
      "                  Type: Numeric (float)\n",
      "\n",
      "                 Range: [11,53]                       Units: 1\n",
      "         Unique values: 27                        Missing .: 0/473,335\n",
      "\n",
      "                  Mean: 30.8918\n",
      "             Std. dev.:  11.002\n",
      "\n",
      "           Percentiles:     10%       25%       50%       75%       90%\n",
      "                             15        23        31        41        43\n",
      "\n",
      "--------------------------------------------------------------------------------\n",
      "sex                                                                  (unlabeled)\n",
      "--------------------------------------------------------------------------------\n",
      "\n",
      "                  Type: Numeric (byte)\n",
      "\n",
      "                 Range: [1,2]                         Units: 1\n",
      "         Unique values: 2                         Missing .: 0/473,335\n",
      "\n",
      "            Tabulation: Freq.  Value\n",
      "                      229,230  1\n",
      "                      244,105  2\n",
      "\n",
      "--------------------------------------------------------------------------------\n",
      "age                                                                  (unlabeled)\n",
      "--------------------------------------------------------------------------------\n",
      "\n",
      "                  Type: Numeric (float)\n",
      "\n",
      "                 Range: [0,115]                       Units: 1\n",
      "         Unique values: 111                       Missing .: 0/473,335\n",
      "\n",
      "                  Mean: 37.3425\n",
      "             Std. dev.:  22.224\n",
      "\n",
      "           Percentiles:     10%       25%       50%       75%       90%\n",
      "                              8        18        37        55        68\n",
      "\n",
      "--------------------------------------------------------------------------------\n",
      "race                                                                 (unlabeled)\n",
      "--------------------------------------------------------------------------------\n",
      "\n",
      "                  Type: Numeric (byte)\n",
      "\n",
      "                 Range: [1,9]                         Units: 1\n",
      "         Unique values: 6                         Missing .: 0/473,335\n",
      "\n",
      "            Tabulation: Freq.  Value\n",
      "                      186,412  1\n",
      "                       46,108  2\n",
      "                        2,797  3\n",
      "                      235,443  4\n",
      "                        2,508  5\n",
      "                           67  9\n",
      "\n",
      "--------------------------------------------------------------------------------\n",
      "house_urban                                                          (unlabeled)\n",
      "--------------------------------------------------------------------------------\n",
      "\n",
      "                  Type: Numeric (byte)\n",
      "\n",
      "                 Range: [1,2]                         Units: 1\n",
      "         Unique values: 2                         Missing .: 0/473,335\n",
      "\n",
      "            Tabulation: Freq.  Value\n",
      "                      347,114  1\n",
      "                      126,221  2\n",
      "\n",
      "--------------------------------------------------------------------------------\n",
      "house_size                                                           (unlabeled)\n",
      "--------------------------------------------------------------------------------\n",
      "\n",
      "                  Type: Numeric (float)\n",
      "\n",
      "                 Range: [1,21]                        Units: 1\n",
      "         Unique values: 19                        Missing .: 0/473,335\n",
      "\n",
      "                  Mean: 3.50263\n",
      "             Std. dev.:  1.5974\n",
      "\n",
      "           Percentiles:     10%       25%       50%       75%       90%\n",
      "                              2         2         3         4         5\n",
      "\n",
      "--------------------------------------------------------------------------------\n",
      "house_type                                                           (unlabeled)\n",
      "--------------------------------------------------------------------------------\n",
      "\n",
      "                  Type: Numeric (byte)\n",
      "\n",
      "                 Range: [1,4]                         Units: 1\n",
      "         Unique values: 4                         Missing .: 0/473,335\n",
      "\n",
      "            Tabulation: Freq.  Value\n",
      "                       30,772  1\n",
      "                      325,499  2\n",
      "                      110,092  3\n",
      "                        6,972  4\n",
      "\n",
      "--------------------------------------------------------------------------------\n",
      "educ_lv                                                              (unlabeled)\n",
      "--------------------------------------------------------------------------------\n",
      "\n",
      "                  Type: Numeric (byte)\n",
      "\n",
      "                 Range: [1,7]                         Units: 1\n",
      "         Unique values: 7                         Missing .: 27,130/473,335\n",
      "\n",
      "            Tabulation: Freq.  Value\n",
      "                       41,248  1\n",
      "                      160,831  2\n",
      "                       33,911  3\n",
      "                       31,392  4\n",
      "                      107,249  5\n",
      "                       17,545  6\n",
      "                       54,029  7\n",
      "                       27,130  .\n",
      "\n",
      "        Missing values:    educ_years==mv <-> educ_lv==mv\n",
      "\n",
      "--------------------------------------------------------------------------------\n",
      "educ_years                                                           (unlabeled)\n",
      "--------------------------------------------------------------------------------\n",
      "\n",
      "                  Type: Numeric (float)\n",
      "\n",
      "                 Range: [0,16]                        Units: 1\n",
      "         Unique values: 17                        Missing .: 27,130/473,335\n",
      "\n",
      "                  Mean: 8.51822\n",
      "             Std. dev.: 4.94655\n",
      "\n",
      "           Percentiles:     10%       25%       50%       75%       90%\n",
      "                              1         5         9        12        16\n",
      "\n",
      "        Missing values:       educ_lv==mv <-> educ_years==mv\n",
      "\n",
      "--------------------------------------------------------------------------------\n",
      "ocup_njobs                                                           (unlabeled)\n",
      "--------------------------------------------------------------------------------\n",
      "\n",
      "                  Type: Numeric (byte)\n",
      "\n",
      "                 Range: [1,3]                         Units: 1\n",
      "         Unique values: 3                         Missing .: 273,229/473,335\n",
      "\n",
      "            Tabulation: Freq.  Value\n",
      "                      194,163  1\n",
      "                        5,634  2\n",
      "                          309  3\n",
      "                      273,229  .\n",
      "\n",
      "        Missing values:       educ_lv==mv --> ocup_njobs==mv\n",
      "                           educ_years==mv --> ocup_njobs==mv\n",
      "                              ocup_lf==mv --> ocup_njobs==mv\n",
      "                            ocup_ocup==mv --> ocup_njobs==mv\n",
      "                         ocup_pension==mv <-> ocup_njobs==mv\n",
      "                             job_time==mv <-> ocup_njobs==mv\n",
      "                            job_group==mv <-> ocup_njobs==mv\n",
      "                              job_pos==mv <-> ocup_njobs==mv\n",
      "                            job_hours==mv <-> ocup_njobs==mv\n",
      "\n",
      "--------------------------------------------------------------------------------\n",
      "ocup_lf                                                              (unlabeled)\n",
      "--------------------------------------------------------------------------------\n",
      "\n",
      "                  Type: Numeric (byte)\n",
      "\n",
      "                 Range: [1,2]                         Units: 1\n",
      "         Unique values: 2                         Missing .: 83,952/473,335\n",
      "\n",
      "            Tabulation: Freq.  Value\n",
      "                      218,300  1\n",
      "                      171,083  2\n",
      "                       83,952  .\n",
      "\n",
      "        Missing values:       educ_lv==mv --> ocup_lf==mv\n",
      "                           educ_years==mv --> ocup_lf==mv\n",
      "\n",
      "--------------------------------------------------------------------------------\n",
      "ocup_ocup                                                            (unlabeled)\n",
      "--------------------------------------------------------------------------------\n",
      "\n",
      "                  Type: Numeric (byte)\n",
      "\n",
      "                 Range: [1,2]                         Units: 1\n",
      "         Unique values: 2                         Missing .: 255,035/473,335\n",
      "\n",
      "            Tabulation: Freq.  Value\n",
      "                      200,106  1\n",
      "                       18,194  2\n",
      "                      255,035  .\n",
      "\n",
      "        Missing values:       educ_lv==mv --> ocup_ocup==mv\n",
      "                           educ_years==mv --> ocup_ocup==mv\n",
      "                              ocup_lf==mv --> ocup_ocup==mv\n",
      "\n",
      "--------------------------------------------------------------------------------\n",
      "ocup_plf                                                             (unlabeled)\n",
      "--------------------------------------------------------------------------------\n",
      "\n",
      "                  Type: Numeric (byte)\n",
      "\n",
      "                 Range: [1,2]                         Units: 1\n",
      "         Unique values: 2                         Missing .: 302,252/473,335\n",
      "\n",
      "            Tabulation: Freq.  Value\n",
      "                       18,910  1\n",
      "                      152,173  2\n",
      "                      302,252  .\n",
      "\n",
      "        Missing values:       educ_lv==mv --> ocup_plf==mv\n",
      "                           educ_years==mv --> ocup_plf==mv\n",
      "                              ocup_lf==mv --> ocup_plf==mv\n",
      "                          ocup_motive==mv <-> ocup_plf==mv\n",
      "\n",
      "--------------------------------------------------------------------------------\n",
      "ocup_low                                                             (unlabeled)\n",
      "--------------------------------------------------------------------------------\n",
      "\n",
      "                  Type: Numeric (byte)\n",
      "\n",
      "                 Range: [1,1]                         Units: 1\n",
      "         Unique values: 1                         Missing .: 462,323/473,335\n",
      "\n",
      "            Tabulation: Freq.  Value\n",
      "                       11,012  1\n",
      "                      462,323  .\n",
      "\n",
      "        Missing values:       educ_lv==mv --> ocup_low==mv\n",
      "                           educ_years==mv --> ocup_low==mv\n",
      "                           ocup_njobs==mv --> ocup_low==mv\n",
      "                              ocup_lf==mv --> ocup_low==mv\n",
      "                            ocup_ocup==mv --> ocup_low==mv\n",
      "                         ocup_pension==mv --> ocup_low==mv\n",
      "                             job_time==mv --> ocup_low==mv\n",
      "                            job_group==mv --> ocup_low==mv\n",
      "                              job_pos==mv --> ocup_low==mv\n",
      "                            job_hours==mv --> ocup_low==mv\n",
      "\n",
      "--------------------------------------------------------------------------------\n",
      "ocup_disc                                                            (unlabeled)\n",
      "--------------------------------------------------------------------------------\n",
      "\n",
      "                  Type: Numeric (byte)\n",
      "\n",
      "                 Range: [1,1]                         Units: 1\n",
      "         Unique values: 1                         Missing .: 461,194/473,335\n",
      "\n",
      "            Tabulation: Freq.  Value\n",
      "                       12,141  1\n",
      "                      461,194  .\n",
      "\n",
      "        Missing values:       educ_lv==mv --> ocup_disc==mv\n",
      "                           educ_years==mv --> ocup_disc==mv\n",
      "                              ocup_lf==mv --> ocup_disc==mv\n",
      "                             ocup_plf==mv --> ocup_disc==mv\n",
      "                          ocup_motive==mv --> ocup_disc==mv\n",
      "\n",
      "--------------------------------------------------------------------------------\n",
      "ocup_pension                                                         (unlabeled)\n",
      "--------------------------------------------------------------------------------\n",
      "\n",
      "                  Type: Numeric (byte)\n",
      "\n",
      "                 Range: [1,2]                         Units: 1\n",
      "         Unique values: 2                         Missing .: 273,229/473,335\n",
      "\n",
      "            Tabulation: Freq.  Value\n",
      "                      119,791  1\n",
      "                       80,315  2\n",
      "                      273,229  .\n",
      "\n",
      "        Missing values:       educ_lv==mv --> ocup_pension==mv\n",
      "                           educ_years==mv --> ocup_pension==mv\n",
      "                           ocup_njobs==mv <-> ocup_pension==mv\n",
      "                              ocup_lf==mv --> ocup_pension==mv\n",
      "                            ocup_ocup==mv --> ocup_pension==mv\n",
      "                             job_time==mv <-> ocup_pension==mv\n",
      "                            job_group==mv <-> ocup_pension==mv\n",
      "                              job_pos==mv <-> ocup_pension==mv\n",
      "                            job_hours==mv <-> ocup_pension==mv\n",
      "\n",
      "--------------------------------------------------------------------------------\n",
      "ocup_motive                                                          (unlabeled)\n",
      "--------------------------------------------------------------------------------\n",
      "\n",
      "                  Type: Numeric (byte)\n",
      "\n",
      "                 Range: [1,6]                         Units: 1\n",
      "         Unique values: 6                         Missing .: 302,252/473,335\n",
      "\n",
      "            Tabulation: Freq.  Value\n",
      "                       35,877  1\n",
      "                       25,293  2\n",
      "                       28,913  3\n",
      "                       43,370  4\n",
      "                       15,033  5\n",
      "                       22,597  6\n",
      "                      302,252  .\n",
      "\n",
      "        Missing values:       educ_lv==mv --> ocup_motive==mv\n",
      "                           educ_years==mv --> ocup_motive==mv\n",
      "                              ocup_lf==mv --> ocup_motive==mv\n",
      "                             ocup_plf==mv <-> ocup_motive==mv\n",
      "\n",
      "--------------------------------------------------------------------------------\n",
      "job_time                                                             (unlabeled)\n",
      "--------------------------------------------------------------------------------\n",
      "\n",
      "                  Type: Numeric (float)\n",
      "\n",
      "                 Range: [1,21]                        Units: 1\n",
      "         Unique values: 5                         Missing .: 273,229/473,335\n",
      "\n",
      "            Tabulation: Freq.  Value\n",
      "                        7,693  1\n",
      "                       20,122  3\n",
      "                      136,255  4\n",
      "                       31,580  20\n",
      "                        4,456  21\n",
      "                      273,229  .\n",
      "\n",
      "        Missing values:       educ_lv==mv --> job_time==mv\n",
      "                           educ_years==mv --> job_time==mv\n",
      "                           ocup_njobs==mv <-> job_time==mv\n",
      "                              ocup_lf==mv --> job_time==mv\n",
      "                            ocup_ocup==mv --> job_time==mv\n",
      "                         ocup_pension==mv <-> job_time==mv\n",
      "                            job_group==mv <-> job_time==mv\n",
      "                              job_pos==mv <-> job_time==mv\n",
      "                            job_hours==mv <-> job_time==mv\n",
      "\n",
      "--------------------------------------------------------------------------------\n",
      "job_group                                                            (unlabeled)\n",
      "--------------------------------------------------------------------------------\n",
      "\n",
      "                  Type: Numeric (float)\n",
      "\n",
      "                 Range: [1,12]                        Units: 1\n",
      "         Unique values: 12                        Missing .: 273,229/473,335\n",
      "\n",
      "                  Mean: 5.27416\n",
      "             Std. dev.: 3.18573\n",
      "\n",
      "           Percentiles:     10%       25%       50%       75%       90%\n",
      "                              1         2         4         8        10\n",
      "\n",
      "        Missing values:       educ_lv==mv --> job_group==mv\n",
      "                           educ_years==mv --> job_group==mv\n",
      "                           ocup_njobs==mv <-> job_group==mv\n",
      "                              ocup_lf==mv --> job_group==mv\n",
      "                            ocup_ocup==mv --> job_group==mv\n",
      "                         ocup_pension==mv <-> job_group==mv\n",
      "                             job_time==mv <-> job_group==mv\n",
      "                              job_pos==mv <-> job_group==mv\n",
      "                            job_hours==mv <-> job_group==mv\n",
      "\n",
      "--------------------------------------------------------------------------------\n",
      "job_pos                                                              (unlabeled)\n",
      "--------------------------------------------------------------------------------\n",
      "\n",
      "                  Type: Numeric (float)\n",
      "\n",
      "                 Range: [1,11]                        Units: 1\n",
      "         Unique values: 11                        Missing .: 273,229/473,335\n",
      "\n",
      "                  Mean: 5.69075\n",
      "             Std. dev.: 2.39741\n",
      "\n",
      "           Percentiles:     10%       25%       50%       75%       90%\n",
      "                              2         4         5         8         9\n",
      "\n",
      "        Missing values:       educ_lv==mv --> job_pos==mv\n",
      "                           educ_years==mv --> job_pos==mv\n",
      "                           ocup_njobs==mv <-> job_pos==mv\n",
      "                              ocup_lf==mv --> job_pos==mv\n",
      "                            ocup_ocup==mv --> job_pos==mv\n",
      "                         ocup_pension==mv <-> job_pos==mv\n",
      "                             job_time==mv <-> job_pos==mv\n",
      "                            job_group==mv <-> job_pos==mv\n",
      "                            job_hours==mv <-> job_pos==mv\n",
      "\n",
      "--------------------------------------------------------------------------------\n",
      "job_pay                                                              (unlabeled)\n",
      "--------------------------------------------------------------------------------\n",
      "\n",
      "                  Type: Numeric (float)\n",
      "\n",
      "                 Range: [50,3000000]                  Units: 10\n",
      "         Unique values: 2,433                     Missing .: 278,421/473,335\n",
      "\n",
      "                  Mean: 26478.7\n",
      "             Std. dev.: 40546.9\n",
      "\n",
      "           Percentiles:     10%       25%       50%       75%       90%\n",
      "                           5500     12120     16000     28000     50000\n",
      "\n",
      "        Missing values:       educ_lv==mv --> job_pay==mv\n",
      "                           educ_years==mv --> job_pay==mv\n",
      "                           ocup_njobs==mv --> job_pay==mv\n",
      "                              ocup_lf==mv --> job_pay==mv\n",
      "                            ocup_ocup==mv --> job_pay==mv\n",
      "                         ocup_pension==mv --> job_pay==mv\n",
      "                             job_time==mv --> job_pay==mv\n",
      "                            job_group==mv --> job_pay==mv\n",
      "                              job_pos==mv --> job_pay==mv\n",
      "                            job_hours==mv --> job_pay==mv\n",
      "\n",
      "--------------------------------------------------------------------------------\n",
      "job_hours                                                            (unlabeled)\n",
      "--------------------------------------------------------------------------------\n",
      "\n",
      "                  Type: Numeric (float)\n",
      "\n",
      "                 Range: [1,120]                       Units: 1\n",
      "         Unique values: 115                       Missing .: 273,229/473,335\n",
      "\n",
      "                  Mean: 39.2715\n",
      "             Std. dev.: 12.1051\n",
      "\n",
      "           Percentiles:     10%       25%       50%       75%       90%\n",
      "                             20        36        40        44        50\n",
      "\n",
      "        Missing values:       educ_lv==mv --> job_hours==mv\n",
      "                           educ_years==mv --> job_hours==mv\n",
      "                           ocup_njobs==mv <-> job_hours==mv\n",
      "                              ocup_lf==mv --> job_hours==mv\n",
      "                            ocup_ocup==mv --> job_hours==mv\n",
      "                         ocup_pension==mv <-> job_hours==mv\n",
      "                             job_time==mv <-> job_hours==mv\n",
      "                            job_group==mv <-> job_hours==mv\n",
      "                              job_pos==mv <-> job_hours==mv\n"
     ]
    }
   ],
   "source": [
    "codebook, mv"
   ]
  },
  {
   "cell_type": "markdown",
   "metadata": {},
   "source": [
    "### Missing Data\n",
    "\n",
    "Most of the missing data on occupation and job variables comes from individuals outside of the working universe (not in working age, mostly).\n",
    "\n",
    "Note some facts about the data:"
   ]
  },
  {
   "cell_type": "markdown",
   "metadata": {},
   "source": [
    "The variable \"ocup_lf\" denotes people in or out of the working force. Below we can see:\n",
    "\n",
    "- The missing variables have a max age of 13 y/o\n",
    "- The proportions of individuals out of the universe, in the force, or out of the force.\n",
    "- For in-the-force individuals, those who are occupied or not."
   ]
  },
  {
   "cell_type": "code",
   "execution_count": 124,
   "metadata": {},
   "outputs": [
    {
     "name": "stdout",
     "output_type": "stream",
     "text": [
      "\n",
      "\n",
      "    Variable |        Obs        Mean    Std. dev.       Min        Max\n",
      "-------------+---------------------------------------------------------\n",
      "         age |     83,952    6.843792    3.946286          0         13\n",
      "\n",
      "\n",
      "    ocup_lf |      Freq.     Percent        Cum.\n",
      "------------+-----------------------------------\n",
      "          1 |    218,300       46.12       46.12\n",
      "          2 |    171,083       36.14       82.26\n",
      "          . |     83,952       17.74      100.00\n",
      "------------+-----------------------------------\n",
      "      Total |    473,335      100.00\n",
      "\n",
      "\n",
      "  ocup_ocup |      Freq.     Percent        Cum.\n",
      "------------+-----------------------------------\n",
      "          1 |    200,106       42.28       42.28\n",
      "          2 |     18,194        3.84       46.12\n",
      "          . |    255,035       53.88      100.00\n",
      "------------+-----------------------------------\n",
      "      Total |    473,335      100.00\n"
     ]
    }
   ],
   "source": [
    "summarize age if ocup_lf == .\n",
    "tabulate ocup_lf, missing\n",
    "tabulate ocup_ocup, missing"
   ]
  },
  {
   "cell_type": "markdown",
   "metadata": {},
   "source": [
    "Then, we can state some facts about the variables:\n",
    "\n",
    "- The $218,300$ obs. of \"ocup_ocup\" are only for those in the working force.\n",
    "- Only the ones outside the force are queried about their potential occupation, \"ocup_plf\", or motive, \"ocup_motive\".\n",
    "- Only the occupied ones present data for \"ocup_pension\"\n",
    "\n",
    "We can check those assessments, and none throws an error."
   ]
  },
  {
   "cell_type": "code",
   "execution_count": 128,
   "metadata": {},
   "outputs": [],
   "source": [
    "assert ocup_ocup != . if ocup_lf == 1\n",
    "assert ocup_plf != . if ocup_lf == 2\n",
    "assert ocup_motive != . if ocup_lf == 2\n",
    "assert ocup_pension != . if ocup_ocup == 1"
   ]
  },
  {
   "cell_type": "markdown",
   "metadata": {},
   "source": [
    "Moving forward, we can see that \"ocup_low\" and \"ocup_disc\" have lots of missing data. This is because those questions are only considered for people that wanted to work more than they did.\n"
   ]
  },
  {
   "cell_type": "markdown",
   "metadata": {},
   "source": [
    "Lastly, all the job variables are set in the universe of occupied people. The \"job_pay\" variable also has missing values in cases where there was no type of payment in any of the jobs.\n",
    "\n",
    "But, the \"ocup_njobs\" variable doesn't have a \"0 jobs\" value. We must create it based on the missing individuals with working-age:"
   ]
  },
  {
   "cell_type": "code",
   "execution_count": 45,
   "metadata": {},
   "outputs": [
    {
     "name": "stdout",
     "output_type": "stream",
     "text": [
      "(189,277 real changes made)\n"
     ]
    }
   ],
   "source": [
    "replace ocup_njobs = 0 if age >= 14 & missing(ocup_njobs)"
   ]
  },
  {
   "cell_type": "markdown",
   "metadata": {},
   "source": [
    "### Data Visualization\n",
    "\n",
    "Now, lets visualize each variable."
   ]
  },
  {
   "cell_type": "markdown",
   "metadata": {},
   "source": [
    "#### Numeric Variables"
   ]
  },
  {
   "cell_type": "code",
   "execution_count": null,
   "metadata": {},
   "outputs": [],
   "source": [
    "foreach var in house_size educ_years job_hours age job_pay {\n",
    "    qui histogram `var' in 1/l, discrete frequency normal\n",
    "    graph export \"figures/`var'.png\", replace\n",
    "}"
   ]
  },
  {
   "cell_type": "markdown",
   "metadata": {},
   "source": [
    "The figures can be seen in the [figures/](figures/) folder. We can see that there are some outliers in \"job_pay\". Lets get a closer look:"
   ]
  },
  {
   "cell_type": "code",
   "execution_count": 10,
   "metadata": {},
   "outputs": [
    {
     "name": "stdout",
     "output_type": "stream",
     "text": [
      "\n",
      "(278,422 missing values generated)\n",
      "\n",
      "\n",
      "job_pay_bin |      Freq.     Percent        Cum.\n",
      "------------+-----------------------------------\n",
      "          0 |     34,582       17.74       17.74\n",
      "      10000 |     78,717       40.39       58.13\n",
      "      20000 |     33,632       17.25       75.38\n",
      "      30000 |     16,841        8.64       84.02\n",
      "      40000 |      7,917        4.06       88.08\n",
      "      50000 |      7,084        3.63       91.72\n",
      "      60000 |      3,431        1.76       93.48\n",
      "      70000 |      2,143        1.10       94.58\n",
      "      80000 |      1,927        0.99       95.57\n",
      "      90000 |        807        0.41       95.98\n",
      "     100000 |      5,853        3.00       98.98\n",
      "     200000 |      1,979        1.02      100.00\n",
      "------------+-----------------------------------\n",
      "      Total |    194,913      100.00\n"
     ]
    }
   ],
   "source": [
    "egen job_pay_bin = cut(job_pay), at(0(10000)100000 200000 3000000)\n",
    "tabulate job_pay_bin"
   ]
  },
  {
   "cell_type": "markdown",
   "metadata": {},
   "source": [
    "This might motivate us to, in the future, drop individuals with really large payments. For now, lets just see the values without outliers:"
   ]
  },
  {
   "cell_type": "code",
   "execution_count": 11,
   "metadata": {},
   "outputs": [
    {
     "name": "stdout",
     "output_type": "stream",
     "text": [
      "\n",
      "\n",
      "(file figures/job_pay_trimmed.png not found)\n",
      "file figures/job_pay_trimmed.png saved as PNG format\n"
     ]
    }
   ],
   "source": [
    "qui histogram job_pay in 1/l if job_pay <= 100000, bins(40) frequency normal\n",
    "graph export \"figures/job_pay_trimmed.png\", replace"
   ]
  },
  {
   "cell_type": "markdown",
   "metadata": {},
   "source": [
    "#### Categorical Variables"
   ]
  },
  {
   "cell_type": "markdown",
   "metadata": {},
   "source": [
    "The individual's basic characteristics:"
   ]
  },
  {
   "cell_type": "code",
   "execution_count": 15,
   "metadata": {},
   "outputs": [
    {
     "name": "stdout",
     "output_type": "stream",
     "text": [
      "\n",
      "           |                               race\n",
      "       sex |         1          2          3          4          5          9 |     Total\n",
      "-----------+------------------------------------------------------------------+----------\n",
      "         1 |    88,655     22,926      1,223    115,217      1,184         25 |   229,230 \n",
      "         2 |    97,757     23,182      1,574    120,226      1,324         42 |   244,105 \n",
      "-----------+------------------------------------------------------------------+----------\n",
      "     Total |   186,412     46,108      2,797    235,443      2,508         67 |   473,335 \n"
     ]
    }
   ],
   "source": [
    "tab sex race, nowrap"
   ]
  },
  {
   "cell_type": "markdown",
   "metadata": {},
   "source": [
    "The household characteristics:"
   ]
  },
  {
   "cell_type": "code",
   "execution_count": 24,
   "metadata": {},
   "outputs": [
    {
     "name": "stdout",
     "output_type": "stream",
     "text": [
      "\n",
      "house_urba |                                             house_size\n",
      "         n |         1          2          3          4          5          6          7          8          9 |     Total\n",
      "-----------+---------------------------------------------------------------------------------------------------+----------\n",
      "         1 |    23,958     74,986     94,215     84,444     40,520     16,326      6,874      2,896      1,485 |   347,114 \n",
      "         2 |     6,814     26,158     31,413     30,088     16,575      7,992      3,647      1,664        990 |   126,221 \n",
      "-----------+---------------------------------------------------------------------------------------------------+----------\n",
      "     Total |    30,772    101,144    125,628    114,532     57,095     24,318     10,521      4,560      2,475 |   473,335 \n",
      "\n",
      "\n",
      "house_urba |                                             house_size\n",
      "         n |        10         11         12         13         14         15         16         17         18 |     Total\n",
      "-----------+---------------------------------------------------------------------------------------------------+----------\n",
      "         1 |       660        253        192        143         42         30         16         17         36 |   347,114 \n",
      "         2 |       390        264         84         39         70          0         16         17          0 |   126,221 \n",
      "-----------+---------------------------------------------------------------------------------------------------+----------\n",
      "     Total |     1,050        517        276        182        112         30         32         34         36 |   473,335 \n",
      "\n",
      "\n",
      "house_urba | house_size\n",
      "         n |        21 |     Total\n",
      "-----------+-----------+----------\n",
      "         1 |        21 |   347,114 \n",
      "         2 |         0 |   126,221 \n",
      "-----------+-----------+----------\n",
      "     Total |        21 |   473,335 \n"
     ]
    }
   ],
   "source": [
    "tab house_urban house_size"
   ]
  },
  {
   "cell_type": "markdown",
   "metadata": {},
   "source": [
    "The number of jobs, and the filtered versions for above 16 and above 18 years old:"
   ]
  },
  {
   "cell_type": "code",
   "execution_count": 40,
   "metadata": {},
   "outputs": [
    {
     "name": "stdout",
     "output_type": "stream",
     "text": [
      "\n",
      "\n",
      " ocup_njobs |      Freq.     Percent        Cum.\n",
      "------------+-----------------------------------\n",
      "          0 |    189,277       39.99       39.99\n",
      "          1 |    194,163       41.02       81.01\n",
      "          2 |      5,634        1.19       82.20\n",
      "          3 |        309        0.07       82.26\n",
      "          . |     83,952       17.74      100.00\n",
      "------------+-----------------------------------\n",
      "      Total |    473,335      100.00\n",
      "\n",
      "\n",
      " ocup_njobs |      Freq.     Percent        Cum.\n",
      "------------+-----------------------------------\n",
      "          0 |    176,332       46.95       46.95\n",
      "          1 |    193,333       51.47       98.42\n",
      "          2 |      5,624        1.50       99.92\n",
      "          3 |        309        0.08      100.00\n",
      "------------+-----------------------------------\n",
      "      Total |    375,598      100.00\n",
      "\n",
      "\n",
      " ocup_njobs |      Freq.     Percent        Cum.\n",
      "------------+-----------------------------------\n",
      "          0 |    164,366       45.50       45.50\n",
      "          1 |    190,931       52.86       98.36\n",
      "          2 |      5,600        1.55       99.91\n",
      "          3 |        309        0.09      100.00\n",
      "------------+-----------------------------------\n",
      "      Total |    361,206      100.00\n"
     ]
    }
   ],
   "source": [
    "tab ocup_njobs, missing\n",
    "tab ocup_njobs if age >= 16, missing\n",
    "tab ocup_njobs if age >= 18, missing"
   ]
  },
  {
   "cell_type": "markdown",
   "metadata": {},
   "source": [
    "The occupancy status:"
   ]
  },
  {
   "cell_type": "code",
   "execution_count": 33,
   "metadata": {},
   "outputs": [
    {
     "name": "stdout",
     "output_type": "stream",
     "text": [
      "\n",
      "\n",
      "           |            ocup_ocup\n",
      "   ocup_lf |         1          2          . |     Total\n",
      "-----------+---------------------------------+----------\n",
      "         1 |   200,106     18,194          0 |   218,300 \n",
      "         2 |         0          0    171,083 |   171,083 \n",
      "         . |         0          0     83,952 |    83,952 \n",
      "-----------+---------------------------------+----------\n",
      "     Total |   200,106     18,194    255,035 |   473,335 \n",
      "\n",
      "\n",
      "           |             ocup_plf\n",
      "   ocup_lf |         1          2          . |     Total\n",
      "-----------+---------------------------------+----------\n",
      "         1 |         0          0    218,300 |   218,300 \n",
      "         2 |    18,910    152,173          0 |   171,083 \n",
      "         . |         0          0     83,952 |    83,952 \n",
      "-----------+---------------------------------+----------\n",
      "     Total |    18,910    152,173    302,252 |   473,335 \n"
     ]
    }
   ],
   "source": [
    "tab ocup_lf ocup_ocup, missing\n",
    "tab ocup_lf ocup_plf, missing"
   ]
  },
  {
   "cell_type": "markdown",
   "metadata": {},
   "source": [
    "The low/none occupancy specific cases:"
   ]
  },
  {
   "cell_type": "code",
   "execution_count": 39,
   "metadata": {},
   "outputs": [
    {
     "name": "stdout",
     "output_type": "stream",
     "text": [
      "\n",
      "\n",
      "   ocup_low |      Freq.     Percent        Cum.\n",
      "------------+-----------------------------------\n",
      "          1 |     11,012       21.12       21.12\n",
      "          . |     41,133       78.88      100.00\n",
      "------------+-----------------------------------\n",
      "      Total |     52,145      100.00\n",
      "\n",
      "\n",
      "  ocup_disc |      Freq.     Percent        Cum.\n",
      "------------+-----------------------------------\n",
      "          1 |     12,141        6.41        6.41\n",
      "          . |    177,136       93.59      100.00\n",
      "------------+-----------------------------------\n",
      "      Total |    189,277      100.00\n"
     ]
    }
   ],
   "source": [
    "tab ocup_low if job_hours < 40, missing\n",
    "tab ocup_disc if ocup_njobs == 0, missing"
   ]
  },
  {
   "cell_type": "markdown",
   "metadata": {},
   "source": [
    "Pension contributors:"
   ]
  },
  {
   "cell_type": "code",
   "execution_count": 41,
   "metadata": {},
   "outputs": [
    {
     "name": "stdout",
     "output_type": "stream",
     "text": [
      "\n",
      "ocup_pensio |\n",
      "          n |      Freq.     Percent        Cum.\n",
      "------------+-----------------------------------\n",
      "          1 |    119,791       59.86       59.86\n",
      "          2 |     80,315       40.14      100.00\n",
      "------------+-----------------------------------\n",
      "      Total |    200,106      100.00\n"
     ]
    }
   ],
   "source": [
    "tab ocup_pension"
   ]
  },
  {
   "cell_type": "markdown",
   "metadata": {},
   "source": [
    "Position at and groups of jobs:"
   ]
  },
  {
   "cell_type": "code",
   "execution_count": 52,
   "metadata": {},
   "outputs": [
    {
     "name": "stdout",
     "output_type": "stream",
     "text": [
      "\n",
      "\n",
      "    job_pos |      Freq.     Percent        Cum.\n",
      "------------+-----------------------------------\n",
      "          1 |      5,832        2.91        2.91\n",
      "          2 |     21,844       10.92       13.83\n",
      "          3 |     14,672        7.33       21.16\n",
      "          4 |     15,224        7.61       28.77\n",
      "          5 |     42,885       21.43       50.20\n",
      "          6 |     20,377       10.18       60.38\n",
      "          7 |     25,202       12.59       72.98\n",
      "          8 |     17,062        8.53       81.51\n",
      "          9 |     35,376       17.68       99.18\n",
      "         10 |      1,612        0.81       99.99\n",
      "         11 |         20        0.01      100.00\n",
      "------------+-----------------------------------\n",
      "      Total |    200,106      100.00\n",
      "\n",
      "\n",
      "  job_group |      Freq.     Percent        Cum.\n",
      "------------+-----------------------------------\n",
      "          1 |     29,862       14.92       14.92\n",
      "          2 |     22,262       11.13       26.05\n",
      "          3 |     13,961        6.98       33.02\n",
      "          4 |     36,286       18.13       51.16\n",
      "          5 |      9,498        4.75       55.90\n",
      "          6 |     10,301        5.15       61.05\n",
      "          7 |     20,127       10.06       71.11\n",
      "          8 |     11,343        5.67       76.78\n",
      "          9 |     24,328       12.16       88.94\n",
      "         10 |      9,472        4.73       93.67\n",
      "         11 |     12,614        6.30       99.97\n",
      "         12 |         52        0.03      100.00\n",
      "------------+-----------------------------------\n",
      "      Total |    200,106      100.00\n"
     ]
    }
   ],
   "source": [
    "tab job_pos\n",
    "tab job_group"
   ]
  },
  {
   "cell_type": "markdown",
   "metadata": {},
   "source": [
    "Seniority at job:"
   ]
  },
  {
   "cell_type": "code",
   "execution_count": 53,
   "metadata": {},
   "outputs": [
    {
     "name": "stdout",
     "output_type": "stream",
     "text": [
      "\n",
      "   job_time |      Freq.     Percent        Cum.\n",
      "------------+-----------------------------------\n",
      "          1 |      7,693        3.84        3.84\n",
      "          2 |     36,036       18.01       21.85\n",
      "          3 |     20,122       10.06       31.91\n",
      "          4 |    136,255       68.09      100.00\n",
      "------------+-----------------------------------\n",
      "      Total |    200,106      100.00\n"
     ]
    }
   ],
   "source": [
    "tab job_time"
   ]
  },
  {
   "cell_type": "markdown",
   "metadata": {},
   "source": [
    "## Data Exploration"
   ]
  }
 ],
 "metadata": {
  "kernelspec": {
   "display_name": "Stata",
   "language": "stata",
   "name": "stata"
  },
  "language_info": {
   "codemirror_mode": "stata",
   "file_extension": ".do",
   "mimetype": "text/x-stata",
   "name": "stata",
   "version": "15.1"
  }
 },
 "nbformat": 4,
 "nbformat_minor": 2
}
